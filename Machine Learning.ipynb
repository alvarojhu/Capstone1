{
 "cells": [
  {
   "cell_type": "code",
   "execution_count": 1,
   "metadata": {},
   "outputs": [],
   "source": [
    "%matplotlib inline \n",
    "\n",
    "\n",
    "import pandas as pd\n",
    "import numpy as np\n",
    "import sklearn.model_selection\n",
    "import matplotlib.pyplot as plt\n",
    "import seaborn as sns\n",
    "import scipy.stats as stats\n",
    "import statsmodels.api as sm\n",
    "\n",
    "from matplotlib import rcParams\n",
    "sns.set_style(\"whitegrid\")\n",
    "sns.set_context(\"poster\")\n"
   ]
  },
  {
   "cell_type": "code",
   "execution_count": 2,
   "metadata": {},
   "outputs": [],
   "source": [
    "stats2018 = pd.read_csv('Total2018_full')\n"
   ]
  },
  {
   "cell_type": "code",
   "execution_count": 3,
   "metadata": {},
   "outputs": [],
   "source": [
    "stats2018.drop('Unnamed: 0', axis = 1, inplace = True)\n",
    "stats2018.drop('Unnamed: 0.1', axis = 1, inplace = True)"
   ]
  },
  {
   "cell_type": "code",
   "execution_count": 4,
   "metadata": {},
   "outputs": [
    {
     "data": {
      "text/html": [
       "<div>\n",
       "<style scoped>\n",
       "    .dataframe tbody tr th:only-of-type {\n",
       "        vertical-align: middle;\n",
       "    }\n",
       "\n",
       "    .dataframe tbody tr th {\n",
       "        vertical-align: top;\n",
       "    }\n",
       "\n",
       "    .dataframe thead th {\n",
       "        text-align: right;\n",
       "    }\n",
       "</style>\n",
       "<table border=\"1\" class=\"dataframe\">\n",
       "  <thead>\n",
       "    <tr style=\"text-align: right;\">\n",
       "      <th></th>\n",
       "      <th>Rk</th>\n",
       "      <th>Tm</th>\n",
       "      <th>2018-19</th>\n",
       "      <th>Name</th>\n",
       "      <th>Pos</th>\n",
       "      <th>G</th>\n",
       "      <th>GS</th>\n",
       "      <th>FG</th>\n",
       "      <th>FG%</th>\n",
       "      <th>3P</th>\n",
       "      <th>...</th>\n",
       "      <th>PER</th>\n",
       "      <th>MP</th>\n",
       "      <th>TRB%</th>\n",
       "      <th>AST%</th>\n",
       "      <th>TOV%</th>\n",
       "      <th>OWS</th>\n",
       "      <th>DWS</th>\n",
       "      <th>M/G</th>\n",
       "      <th>AST/TOV</th>\n",
       "      <th>dollar_per_p/g</th>\n",
       "    </tr>\n",
       "  </thead>\n",
       "  <tbody>\n",
       "    <tr>\n",
       "      <th>0</th>\n",
       "      <td>1</td>\n",
       "      <td>GSW</td>\n",
       "      <td>37457154</td>\n",
       "      <td>Stephen Curry</td>\n",
       "      <td>PG</td>\n",
       "      <td>51</td>\n",
       "      <td>51</td>\n",
       "      <td>8.4</td>\n",
       "      <td>0.495</td>\n",
       "      <td>4.2</td>\n",
       "      <td>...</td>\n",
       "      <td>28.2</td>\n",
       "      <td>1631</td>\n",
       "      <td>9.0</td>\n",
       "      <td>30.3</td>\n",
       "      <td>13.3</td>\n",
       "      <td>7.2</td>\n",
       "      <td>1.8</td>\n",
       "      <td>31.980392</td>\n",
       "      <td>2.033333</td>\n",
       "      <td>1.418832e+06</td>\n",
       "    </tr>\n",
       "    <tr>\n",
       "      <th>1</th>\n",
       "      <td>4</td>\n",
       "      <td>HOU</td>\n",
       "      <td>35654150</td>\n",
       "      <td>Chris Paul</td>\n",
       "      <td>PG</td>\n",
       "      <td>58</td>\n",
       "      <td>58</td>\n",
       "      <td>6.3</td>\n",
       "      <td>0.460</td>\n",
       "      <td>2.5</td>\n",
       "      <td>...</td>\n",
       "      <td>24.4</td>\n",
       "      <td>1847</td>\n",
       "      <td>9.5</td>\n",
       "      <td>40.9</td>\n",
       "      <td>12.5</td>\n",
       "      <td>7.5</td>\n",
       "      <td>2.7</td>\n",
       "      <td>31.844828</td>\n",
       "      <td>3.590909</td>\n",
       "      <td>1.916890e+06</td>\n",
       "    </tr>\n",
       "    <tr>\n",
       "      <th>2</th>\n",
       "      <td>2</td>\n",
       "      <td>LAL</td>\n",
       "      <td>35654150</td>\n",
       "      <td>LeBron James</td>\n",
       "      <td>PF</td>\n",
       "      <td>82</td>\n",
       "      <td>82</td>\n",
       "      <td>10.5</td>\n",
       "      <td>0.542</td>\n",
       "      <td>1.8</td>\n",
       "      <td>...</td>\n",
       "      <td>28.6</td>\n",
       "      <td>3026</td>\n",
       "      <td>13.1</td>\n",
       "      <td>44.4</td>\n",
       "      <td>16.1</td>\n",
       "      <td>11.0</td>\n",
       "      <td>3.0</td>\n",
       "      <td>36.902439</td>\n",
       "      <td>2.166667</td>\n",
       "      <td>1.296515e+06</td>\n",
       "    </tr>\n",
       "    <tr>\n",
       "      <th>3</th>\n",
       "      <td>5</td>\n",
       "      <td>OKC</td>\n",
       "      <td>35350000</td>\n",
       "      <td>Russell Westbrook</td>\n",
       "      <td>PG</td>\n",
       "      <td>80</td>\n",
       "      <td>80</td>\n",
       "      <td>9.5</td>\n",
       "      <td>0.449</td>\n",
       "      <td>1.2</td>\n",
       "      <td>...</td>\n",
       "      <td>24.7</td>\n",
       "      <td>2914</td>\n",
       "      <td>15.3</td>\n",
       "      <td>49.8</td>\n",
       "      <td>16.4</td>\n",
       "      <td>5.5</td>\n",
       "      <td>4.5</td>\n",
       "      <td>36.425000</td>\n",
       "      <td>2.145833</td>\n",
       "      <td>1.391732e+06</td>\n",
       "    </tr>\n",
       "    <tr>\n",
       "      <th>4</th>\n",
       "      <td>6</td>\n",
       "      <td>DET</td>\n",
       "      <td>31873932</td>\n",
       "      <td>Blake Griffin</td>\n",
       "      <td>PF</td>\n",
       "      <td>58</td>\n",
       "      <td>58</td>\n",
       "      <td>7.5</td>\n",
       "      <td>0.438</td>\n",
       "      <td>1.9</td>\n",
       "      <td>...</td>\n",
       "      <td>19.6</td>\n",
       "      <td>1970</td>\n",
       "      <td>12.0</td>\n",
       "      <td>28.1</td>\n",
       "      <td>12.6</td>\n",
       "      <td>3.2</td>\n",
       "      <td>1.8</td>\n",
       "      <td>33.965517</td>\n",
       "      <td>2.071429</td>\n",
       "      <td>1.489436e+06</td>\n",
       "    </tr>\n",
       "  </tbody>\n",
       "</table>\n",
       "<p>5 rows × 32 columns</p>\n",
       "</div>"
      ],
      "text/plain": [
       "   Rk   Tm   2018-19               Name Pos   G  GS    FG    FG%   3P  \\\n",
       "0   1  GSW  37457154      Stephen Curry  PG  51  51   8.4  0.495  4.2   \n",
       "1   4  HOU  35654150         Chris Paul  PG  58  58   6.3  0.460  2.5   \n",
       "2   2  LAL  35654150       LeBron James  PF  82  82  10.5  0.542  1.8   \n",
       "3   5  OKC  35350000  Russell Westbrook  PG  80  80   9.5  0.449  1.2   \n",
       "4   6  DET  31873932      Blake Griffin  PF  58  58   7.5  0.438  1.9   \n",
       "\n",
       "        ...         PER    MP  TRB%  AST%  TOV%   OWS  DWS        M/G  \\\n",
       "0       ...        28.2  1631   9.0  30.3  13.3   7.2  1.8  31.980392   \n",
       "1       ...        24.4  1847   9.5  40.9  12.5   7.5  2.7  31.844828   \n",
       "2       ...        28.6  3026  13.1  44.4  16.1  11.0  3.0  36.902439   \n",
       "3       ...        24.7  2914  15.3  49.8  16.4   5.5  4.5  36.425000   \n",
       "4       ...        19.6  1970  12.0  28.1  12.6   3.2  1.8  33.965517   \n",
       "\n",
       "    AST/TOV  dollar_per_p/g  \n",
       "0  2.033333    1.418832e+06  \n",
       "1  3.590909    1.916890e+06  \n",
       "2  2.166667    1.296515e+06  \n",
       "3  2.145833    1.391732e+06  \n",
       "4  2.071429    1.489436e+06  \n",
       "\n",
       "[5 rows x 32 columns]"
      ]
     },
     "execution_count": 4,
     "metadata": {},
     "output_type": "execute_result"
    }
   ],
   "source": [
    "stats2018.head()"
   ]
  },
  {
   "cell_type": "code",
   "execution_count": 5,
   "metadata": {},
   "outputs": [
    {
     "data": {
      "text/html": [
       "<div>\n",
       "<style scoped>\n",
       "    .dataframe tbody tr th:only-of-type {\n",
       "        vertical-align: middle;\n",
       "    }\n",
       "\n",
       "    .dataframe tbody tr th {\n",
       "        vertical-align: top;\n",
       "    }\n",
       "\n",
       "    .dataframe thead th {\n",
       "        text-align: right;\n",
       "    }\n",
       "</style>\n",
       "<table border=\"1\" class=\"dataframe\">\n",
       "  <thead>\n",
       "    <tr style=\"text-align: right;\">\n",
       "      <th></th>\n",
       "      <th>Abbreviation</th>\n",
       "      <th>Meaning</th>\n",
       "    </tr>\n",
       "  </thead>\n",
       "  <tbody>\n",
       "    <tr>\n",
       "      <th>0</th>\n",
       "      <td>Rk</td>\n",
       "      <td>Rank</td>\n",
       "    </tr>\n",
       "    <tr>\n",
       "      <th>1</th>\n",
       "      <td>Tm</td>\n",
       "      <td>Team</td>\n",
       "    </tr>\n",
       "    <tr>\n",
       "      <th>2</th>\n",
       "      <td>2018-19</td>\n",
       "      <td>Salary for 2018-19 season</td>\n",
       "    </tr>\n",
       "    <tr>\n",
       "      <th>3</th>\n",
       "      <td>Name</td>\n",
       "      <td>Name</td>\n",
       "    </tr>\n",
       "    <tr>\n",
       "      <th>4</th>\n",
       "      <td>Pos</td>\n",
       "      <td>Position</td>\n",
       "    </tr>\n",
       "    <tr>\n",
       "      <th>5</th>\n",
       "      <td>G</td>\n",
       "      <td>Games Played</td>\n",
       "    </tr>\n",
       "    <tr>\n",
       "      <th>6</th>\n",
       "      <td>GS</td>\n",
       "      <td>Games Started</td>\n",
       "    </tr>\n",
       "    <tr>\n",
       "      <th>7</th>\n",
       "      <td>FG</td>\n",
       "      <td>Field Goals Attempted</td>\n",
       "    </tr>\n",
       "    <tr>\n",
       "      <th>8</th>\n",
       "      <td>FG%</td>\n",
       "      <td>Field Goal Percentage</td>\n",
       "    </tr>\n",
       "    <tr>\n",
       "      <th>9</th>\n",
       "      <td>3P</td>\n",
       "      <td>3 Pointers Attempted per Game</td>\n",
       "    </tr>\n",
       "    <tr>\n",
       "      <th>10</th>\n",
       "      <td>3P%</td>\n",
       "      <td>3 Point Percentage</td>\n",
       "    </tr>\n",
       "    <tr>\n",
       "      <th>11</th>\n",
       "      <td>eFG%</td>\n",
       "      <td>Effective Field Goal Percentage</td>\n",
       "    </tr>\n",
       "    <tr>\n",
       "      <th>12</th>\n",
       "      <td>FT%</td>\n",
       "      <td>Free Throw Percentage</td>\n",
       "    </tr>\n",
       "    <tr>\n",
       "      <th>13</th>\n",
       "      <td>ORB</td>\n",
       "      <td>Offensive Rebounds</td>\n",
       "    </tr>\n",
       "    <tr>\n",
       "      <th>14</th>\n",
       "      <td>TRB</td>\n",
       "      <td>Total Rebounds</td>\n",
       "    </tr>\n",
       "    <tr>\n",
       "      <th>15</th>\n",
       "      <td>AST</td>\n",
       "      <td>Assists Per Game</td>\n",
       "    </tr>\n",
       "    <tr>\n",
       "      <th>16</th>\n",
       "      <td>STL</td>\n",
       "      <td>Steals per Game</td>\n",
       "    </tr>\n",
       "    <tr>\n",
       "      <th>17</th>\n",
       "      <td>BLK</td>\n",
       "      <td>Blocks Per Game</td>\n",
       "    </tr>\n",
       "    <tr>\n",
       "      <th>18</th>\n",
       "      <td>PS/G</td>\n",
       "      <td>Points per Game</td>\n",
       "    </tr>\n",
       "    <tr>\n",
       "      <th>19</th>\n",
       "      <td>TOV</td>\n",
       "      <td>Turnovers per Game</td>\n",
       "    </tr>\n",
       "    <tr>\n",
       "      <th>20</th>\n",
       "      <td>Age</td>\n",
       "      <td>Age</td>\n",
       "    </tr>\n",
       "    <tr>\n",
       "      <th>21</th>\n",
       "      <td>WS</td>\n",
       "      <td>Win Shares</td>\n",
       "    </tr>\n",
       "    <tr>\n",
       "      <th>22</th>\n",
       "      <td>PER</td>\n",
       "      <td>Player Efficiency Rating</td>\n",
       "    </tr>\n",
       "    <tr>\n",
       "      <th>23</th>\n",
       "      <td>MP</td>\n",
       "      <td>Minutes Played in the season</td>\n",
       "    </tr>\n",
       "    <tr>\n",
       "      <th>24</th>\n",
       "      <td>TRB%</td>\n",
       "      <td>Total Rebound Percentage</td>\n",
       "    </tr>\n",
       "    <tr>\n",
       "      <th>25</th>\n",
       "      <td>AST%</td>\n",
       "      <td>Assist Percentage</td>\n",
       "    </tr>\n",
       "    <tr>\n",
       "      <th>26</th>\n",
       "      <td>TOV%</td>\n",
       "      <td>Turnover Percentage</td>\n",
       "    </tr>\n",
       "    <tr>\n",
       "      <th>27</th>\n",
       "      <td>OWS</td>\n",
       "      <td>Offensive Win Shares</td>\n",
       "    </tr>\n",
       "    <tr>\n",
       "      <th>28</th>\n",
       "      <td>DWS</td>\n",
       "      <td>Defensive Win Shares</td>\n",
       "    </tr>\n",
       "    <tr>\n",
       "      <th>29</th>\n",
       "      <td>M/G</td>\n",
       "      <td>Minutes Per Game</td>\n",
       "    </tr>\n",
       "    <tr>\n",
       "      <th>30</th>\n",
       "      <td>AST/TOV</td>\n",
       "      <td>Assist to Turnover Ratio Per Game</td>\n",
       "    </tr>\n",
       "  </tbody>\n",
       "</table>\n",
       "</div>"
      ],
      "text/plain": [
       "   Abbreviation                            Meaning\n",
       "0            Rk                               Rank\n",
       "1            Tm                               Team\n",
       "2       2018-19          Salary for 2018-19 season\n",
       "3          Name                               Name\n",
       "4           Pos                           Position\n",
       "5             G                       Games Played\n",
       "6            GS                      Games Started\n",
       "7            FG              Field Goals Attempted\n",
       "8           FG%              Field Goal Percentage\n",
       "9            3P      3 Pointers Attempted per Game\n",
       "10          3P%                 3 Point Percentage\n",
       "11         eFG%    Effective Field Goal Percentage\n",
       "12          FT%              Free Throw Percentage\n",
       "13          ORB                 Offensive Rebounds\n",
       "14          TRB                     Total Rebounds\n",
       "15          AST                   Assists Per Game\n",
       "16          STL                    Steals per Game\n",
       "17          BLK                    Blocks Per Game\n",
       "18         PS/G                    Points per Game\n",
       "19          TOV                 Turnovers per Game\n",
       "20          Age                                Age\n",
       "21           WS                         Win Shares\n",
       "22          PER           Player Efficiency Rating\n",
       "23           MP       Minutes Played in the season\n",
       "24         TRB%           Total Rebound Percentage\n",
       "25         AST%                  Assist Percentage\n",
       "26         TOV%                Turnover Percentage\n",
       "27          OWS               Offensive Win Shares\n",
       "28          DWS               Defensive Win Shares\n",
       "29          M/G                   Minutes Per Game\n",
       "30      AST/TOV  Assist to Turnover Ratio Per Game"
      ]
     },
     "execution_count": 5,
     "metadata": {},
     "output_type": "execute_result"
    }
   ],
   "source": [
    "#Reminding what each feature means\n",
    "feature_names = pd.read_csv('Names_full').drop('Unnamed: 0', axis =1)\n",
    "feature_names"
   ]
  },
  {
   "cell_type": "code",
   "execution_count": 6,
   "metadata": {},
   "outputs": [],
   "source": [
    "target = stats2018['2018-19'] #target variable"
   ]
  },
  {
   "cell_type": "code",
   "execution_count": 7,
   "metadata": {},
   "outputs": [],
   "source": [
    "features = stats2018.drop('2018-19', axis = 1)"
   ]
  },
  {
   "cell_type": "code",
   "execution_count": 8,
   "metadata": {},
   "outputs": [
    {
     "data": {
      "text/plain": [
       "Index(['Rk', 'Tm', 'Name', 'Pos', 'G', 'GS', 'FG', 'FG%', '3P', '3P%', 'eFG%',\n",
       "       'FT%', 'ORB', 'TRB', 'AST', 'STL', 'BLK', 'PS/G', 'TOV', 'Age', 'WS',\n",
       "       'PER', 'MP', 'TRB%', 'AST%', 'TOV%', 'OWS', 'DWS', 'M/G', 'AST/TOV',\n",
       "       'dollar_per_p/g'],\n",
       "      dtype='object')"
      ]
     },
     "execution_count": 8,
     "metadata": {},
     "output_type": "execute_result"
    }
   ],
   "source": [
    "features.columns"
   ]
  },
  {
   "cell_type": "code",
   "execution_count": 9,
   "metadata": {},
   "outputs": [
    {
     "name": "stdout",
     "output_type": "stream",
     "text": [
      "<class 'pandas.core.frame.DataFrame'>\n",
      "RangeIndex: 377 entries, 0 to 376\n",
      "Data columns (total 31 columns):\n",
      "Rk                377 non-null int64\n",
      "Tm                377 non-null object\n",
      "Name              377 non-null object\n",
      "Pos               377 non-null object\n",
      "G                 377 non-null int64\n",
      "GS                377 non-null int64\n",
      "FG                377 non-null float64\n",
      "FG%               377 non-null float64\n",
      "3P                377 non-null float64\n",
      "3P%               352 non-null float64\n",
      "eFG%              377 non-null float64\n",
      "FT%               370 non-null float64\n",
      "ORB               377 non-null float64\n",
      "TRB               377 non-null float64\n",
      "AST               377 non-null float64\n",
      "STL               377 non-null float64\n",
      "BLK               377 non-null float64\n",
      "PS/G              377 non-null float64\n",
      "TOV               377 non-null float64\n",
      "Age               377 non-null int64\n",
      "WS                377 non-null float64\n",
      "PER               377 non-null float64\n",
      "MP                377 non-null int64\n",
      "TRB%              377 non-null float64\n",
      "AST%              377 non-null float64\n",
      "TOV%              377 non-null float64\n",
      "OWS               377 non-null float64\n",
      "DWS               377 non-null float64\n",
      "M/G               377 non-null float64\n",
      "AST/TOV           377 non-null float64\n",
      "dollar_per_p/g    377 non-null float64\n",
      "dtypes: float64(23), int64(5), object(3)\n",
      "memory usage: 91.4+ KB\n"
     ]
    }
   ],
   "source": [
    "features.info()"
   ]
  },
  {
   "cell_type": "markdown",
   "metadata": {},
   "source": [
    "As I decided earlier in the \"EDA\" portion of this project, Points per game (PS/G), games started (GS), and Win Shares (WS) were the 3 most correlative features with salary, so I will slice the 'features' dataframe for these three only."
   ]
  },
  {
   "cell_type": "code",
   "execution_count": 10,
   "metadata": {},
   "outputs": [
    {
     "data": {
      "text/html": [
       "<div>\n",
       "<style scoped>\n",
       "    .dataframe tbody tr th:only-of-type {\n",
       "        vertical-align: middle;\n",
       "    }\n",
       "\n",
       "    .dataframe tbody tr th {\n",
       "        vertical-align: top;\n",
       "    }\n",
       "\n",
       "    .dataframe thead th {\n",
       "        text-align: right;\n",
       "    }\n",
       "</style>\n",
       "<table border=\"1\" class=\"dataframe\">\n",
       "  <thead>\n",
       "    <tr style=\"text-align: right;\">\n",
       "      <th></th>\n",
       "      <th>GS</th>\n",
       "      <th>PS/G</th>\n",
       "      <th>WS</th>\n",
       "    </tr>\n",
       "  </thead>\n",
       "  <tbody>\n",
       "    <tr>\n",
       "      <th>0</th>\n",
       "      <td>51</td>\n",
       "      <td>26.4</td>\n",
       "      <td>9.1</td>\n",
       "    </tr>\n",
       "    <tr>\n",
       "      <th>1</th>\n",
       "      <td>58</td>\n",
       "      <td>18.6</td>\n",
       "      <td>10.2</td>\n",
       "    </tr>\n",
       "    <tr>\n",
       "      <th>2</th>\n",
       "      <td>82</td>\n",
       "      <td>27.5</td>\n",
       "      <td>14.0</td>\n",
       "    </tr>\n",
       "    <tr>\n",
       "      <th>3</th>\n",
       "      <td>80</td>\n",
       "      <td>25.4</td>\n",
       "      <td>10.1</td>\n",
       "    </tr>\n",
       "    <tr>\n",
       "      <th>4</th>\n",
       "      <td>58</td>\n",
       "      <td>21.4</td>\n",
       "      <td>4.9</td>\n",
       "    </tr>\n",
       "  </tbody>\n",
       "</table>\n",
       "</div>"
      ],
      "text/plain": [
       "   GS  PS/G    WS\n",
       "0  51  26.4   9.1\n",
       "1  58  18.6  10.2\n",
       "2  82  27.5  14.0\n",
       "3  80  25.4  10.1\n",
       "4  58  21.4   4.9"
      ]
     },
     "execution_count": 10,
     "metadata": {},
     "output_type": "execute_result"
    }
   ],
   "source": [
    "features = features[['GS','PS/G','WS']]\n",
    "features.head()"
   ]
  },
  {
   "cell_type": "markdown",
   "metadata": {},
   "source": [
    "### Using an Ordinary Least Squares Fit as the regression with only 1 variable, points per game"
   ]
  },
  {
   "cell_type": "code",
   "execution_count": 11,
   "metadata": {},
   "outputs": [],
   "source": [
    "import statsmodels.api as sm\n",
    "from statsmodels.formula.api import ols"
   ]
  },
  {
   "cell_type": "code",
   "execution_count": 12,
   "metadata": {},
   "outputs": [],
   "source": [
    "#Trying a regression with only 1 variable\n",
    "m1 = ols('Q(\"2018-19\") ~ Q(\"PS/G\")',stats2018).fit()"
   ]
  },
  {
   "cell_type": "code",
   "execution_count": 13,
   "metadata": {},
   "outputs": [
    {
     "data": {
      "image/png": "[encoded data removed]",
      "text/plain": [
       "<Figure size 432x288 with 1 Axes>"
      ]
     },
     "metadata": {},
     "output_type": "display_data"
    }
   ],
   "source": [
    "_ = plt.scatter(m1.fittedvalues, target, s = 10)\n",
    "_ = plt.xlabel('fitted')\n",
    "_ = plt.ylabel('Actual')\n",
    "_ = plt.title('OLS with only Points Per Game')\n",
    "_ = plt.plot([0,3e7],[0,3e7], color = 'r')"
   ]
  },
  {
   "cell_type": "code",
   "execution_count": 14,
   "metadata": {
    "scrolled": true
   },
   "outputs": [
    {
     "data": {
      "text/plain": [
       "40449420938585.6"
      ]
     },
     "execution_count": 14,
     "metadata": {},
     "output_type": "execute_result"
    }
   ],
   "source": [
    "import sklearn.metrics as metrics\n",
    "MSE = metrics.mean_squared_error(target, m1.fittedvalues)\n",
    "MSE"
   ]
  },
  {
   "cell_type": "code",
   "execution_count": 15,
   "metadata": {},
   "outputs": [
    {
     "data": {
      "text/html": [
       "<table class=\"simpletable\">\n",
       "<caption>OLS Regression Results</caption>\n",
       "<tr>\n",
       "  <th>Dep. Variable:</th>      <td>Q(\"2018-19\")</td>   <th>  R-squared:         </th> <td>   0.406</td> \n",
       "</tr>\n",
       "<tr>\n",
       "  <th>Model:</th>                   <td>OLS</td>       <th>  Adj. R-squared:    </th> <td>   0.404</td> \n",
       "</tr>\n",
       "<tr>\n",
       "  <th>Method:</th>             <td>Least Squares</td>  <th>  F-statistic:       </th> <td>   256.0</td> \n",
       "</tr>\n",
       "<tr>\n",
       "  <th>Date:</th>             <td>Mon, 17 Sep 2018</td> <th>  Prob (F-statistic):</th> <td>2.72e-44</td> \n",
       "</tr>\n",
       "<tr>\n",
       "  <th>Time:</th>                 <td>13:37:28</td>     <th>  Log-Likelihood:    </th> <td> -6440.8</td> \n",
       "</tr>\n",
       "<tr>\n",
       "  <th>No. Observations:</th>      <td>   377</td>      <th>  AIC:               </th> <td>1.289e+04</td>\n",
       "</tr>\n",
       "<tr>\n",
       "  <th>Df Residuals:</th>          <td>   375</td>      <th>  BIC:               </th> <td>1.289e+04</td>\n",
       "</tr>\n",
       "<tr>\n",
       "  <th>Df Model:</th>              <td>     1</td>      <th>                     </th>     <td> </td>    \n",
       "</tr>\n",
       "<tr>\n",
       "  <th>Covariance Type:</th>      <td>nonrobust</td>    <th>                     </th>     <td> </td>    \n",
       "</tr>\n",
       "</table>\n",
       "<table class=\"simpletable\">\n",
       "<tr>\n",
       "      <td></td>         <th>coef</th>     <th>std err</th>      <th>t</th>      <th>P>|t|</th>  <th>[0.025</th>    <th>0.975]</th>  \n",
       "</tr>\n",
       "<tr>\n",
       "  <th>Intercept</th> <td> 1.084e+05</td> <td> 6.36e+05</td> <td>    0.171</td> <td> 0.865</td> <td>-1.14e+06</td> <td> 1.36e+06</td>\n",
       "</tr>\n",
       "<tr>\n",
       "  <th>Q(\"PS/G\")</th> <td> 8.794e+05</td> <td>  5.5e+04</td> <td>   16.000</td> <td> 0.000</td> <td> 7.71e+05</td> <td> 9.87e+05</td>\n",
       "</tr>\n",
       "</table>\n",
       "<table class=\"simpletable\">\n",
       "<tr>\n",
       "  <th>Omnibus:</th>       <td>41.097</td> <th>  Durbin-Watson:     </th> <td>   0.745</td>\n",
       "</tr>\n",
       "<tr>\n",
       "  <th>Prob(Omnibus):</th> <td> 0.000</td> <th>  Jarque-Bera (JB):  </th> <td>  60.558</td>\n",
       "</tr>\n",
       "<tr>\n",
       "  <th>Skew:</th>          <td> 0.727</td> <th>  Prob(JB):          </th> <td>7.08e-14</td>\n",
       "</tr>\n",
       "<tr>\n",
       "  <th>Kurtosis:</th>      <td> 4.318</td> <th>  Cond. No.          </th> <td>    22.5</td>\n",
       "</tr>\n",
       "</table><br/><br/>Warnings:<br/>[1] Standard Errors assume that the covariance matrix of the errors is correctly specified."
      ],
      "text/plain": [
       "<class 'statsmodels.iolib.summary.Summary'>\n",
       "\"\"\"\n",
       "                            OLS Regression Results                            \n",
       "==============================================================================\n",
       "Dep. Variable:           Q(\"2018-19\")   R-squared:                       0.406\n",
       "Model:                            OLS   Adj. R-squared:                  0.404\n",
       "Method:                 Least Squares   F-statistic:                     256.0\n",
       "Date:                Mon, 17 Sep 2018   Prob (F-statistic):           2.72e-44\n",
       "Time:                        13:37:28   Log-Likelihood:                -6440.8\n",
       "No. Observations:                 377   AIC:                         1.289e+04\n",
       "Df Residuals:                     375   BIC:                         1.289e+04\n",
       "Df Model:                           1                                         \n",
       "Covariance Type:            nonrobust                                         \n",
       "==============================================================================\n",
       "                 coef    std err          t      P>|t|      [0.025      0.975]\n",
       "------------------------------------------------------------------------------\n",
       "Intercept   1.084e+05   6.36e+05      0.171      0.865   -1.14e+06    1.36e+06\n",
       "Q(\"PS/G\")   8.794e+05    5.5e+04     16.000      0.000    7.71e+05    9.87e+05\n",
       "==============================================================================\n",
       "Omnibus:                       41.097   Durbin-Watson:                   0.745\n",
       "Prob(Omnibus):                  0.000   Jarque-Bera (JB):               60.558\n",
       "Skew:                           0.727   Prob(JB):                     7.08e-14\n",
       "Kurtosis:                       4.318   Cond. No.                         22.5\n",
       "==============================================================================\n",
       "\n",
       "Warnings:\n",
       "[1] Standard Errors assume that the covariance matrix of the errors is correctly specified.\n",
       "\"\"\""
      ]
     },
     "execution_count": 15,
     "metadata": {},
     "output_type": "execute_result"
    }
   ],
   "source": [
    "m1.summary()"
   ]
  },
  {
   "cell_type": "markdown",
   "metadata": {},
   "source": [
    "As you can see, the Mean-Squared Error is very high at 40$\\times$ $10^{12}$ and the $R^2$ value is pretty low, not even hitting 0.5"
   ]
  },
  {
   "cell_type": "markdown",
   "metadata": {},
   "source": [
    "### Trying OLS with 3 important variables"
   ]
  },
  {
   "cell_type": "code",
   "execution_count": 16,
   "metadata": {},
   "outputs": [],
   "source": [
    "m2 = ols('Q(\"2018-19\") ~ Q(\"PS/G\") + GS + WS',stats2018).fit()"
   ]
  },
  {
   "cell_type": "code",
   "execution_count": 17,
   "metadata": {},
   "outputs": [
    {
     "data": {
      "image/png": "[encoded data removed]",
      "text/plain": [
       "<Figure size 432x288 with 1 Axes>"
      ]
     },
     "metadata": {},
     "output_type": "display_data"
    }
   ],
   "source": [
    "_ = plt.scatter(m2.fittedvalues, target, s = 10)\n",
    "_ = plt.xlabel('fitted')\n",
    "_ = plt.ylabel('Actual')\n",
    "_ = plt.title('OLS with Points per Game, Win Shares, and Games Started')\n",
    "_ = plt.plot([0,3e7],[0,3e7], color = 'r')"
   ]
  },
  {
   "cell_type": "code",
   "execution_count": 18,
   "metadata": {},
   "outputs": [
    {
     "data": {
      "text/plain": [
       "37094922259158.62"
      ]
     },
     "execution_count": 18,
     "metadata": {},
     "output_type": "execute_result"
    }
   ],
   "source": [
    "MSE2 = metrics.mean_squared_error(target, m2.fittedvalues)\n",
    "MSE2"
   ]
  },
  {
   "cell_type": "code",
   "execution_count": 19,
   "metadata": {},
   "outputs": [
    {
     "data": {
      "text/html": [
       "<table class=\"simpletable\">\n",
       "<caption>OLS Regression Results</caption>\n",
       "<tr>\n",
       "  <th>Dep. Variable:</th>      <td>Q(\"2018-19\")</td>   <th>  R-squared:         </th> <td>   0.455</td> \n",
       "</tr>\n",
       "<tr>\n",
       "  <th>Model:</th>                   <td>OLS</td>       <th>  Adj. R-squared:    </th> <td>   0.451</td> \n",
       "</tr>\n",
       "<tr>\n",
       "  <th>Method:</th>             <td>Least Squares</td>  <th>  F-statistic:       </th> <td>   103.8</td> \n",
       "</tr>\n",
       "<tr>\n",
       "  <th>Date:</th>             <td>Mon, 17 Sep 2018</td> <th>  Prob (F-statistic):</th> <td>7.23e-49</td> \n",
       "</tr>\n",
       "<tr>\n",
       "  <th>Time:</th>                 <td>13:37:29</td>     <th>  Log-Likelihood:    </th> <td> -6424.5</td> \n",
       "</tr>\n",
       "<tr>\n",
       "  <th>No. Observations:</th>      <td>   377</td>      <th>  AIC:               </th> <td>1.286e+04</td>\n",
       "</tr>\n",
       "<tr>\n",
       "  <th>Df Residuals:</th>          <td>   373</td>      <th>  BIC:               </th> <td>1.287e+04</td>\n",
       "</tr>\n",
       "<tr>\n",
       "  <th>Df Model:</th>              <td>     3</td>      <th>                     </th>     <td> </td>    \n",
       "</tr>\n",
       "<tr>\n",
       "  <th>Covariance Type:</th>      <td>nonrobust</td>    <th>                     </th>     <td> </td>    \n",
       "</tr>\n",
       "</table>\n",
       "<table class=\"simpletable\">\n",
       "<tr>\n",
       "      <td></td>         <th>coef</th>     <th>std err</th>      <th>t</th>      <th>P>|t|</th>  <th>[0.025</th>    <th>0.975]</th>  \n",
       "</tr>\n",
       "<tr>\n",
       "  <th>Intercept</th> <td> 4.755e+05</td> <td> 6.14e+05</td> <td>    0.775</td> <td> 0.439</td> <td>-7.31e+05</td> <td> 1.68e+06</td>\n",
       "</tr>\n",
       "<tr>\n",
       "  <th>Q(\"PS/G\")</th> <td> 4.994e+05</td> <td> 8.42e+04</td> <td>    5.933</td> <td> 0.000</td> <td> 3.34e+05</td> <td> 6.65e+05</td>\n",
       "</tr>\n",
       "<tr>\n",
       "  <th>GS</th>        <td> 4.654e+04</td> <td> 1.61e+04</td> <td>    2.896</td> <td> 0.004</td> <td> 1.49e+04</td> <td> 7.81e+04</td>\n",
       "</tr>\n",
       "<tr>\n",
       "  <th>WS</th>        <td> 6.373e+05</td> <td> 1.69e+05</td> <td>    3.776</td> <td> 0.000</td> <td> 3.05e+05</td> <td> 9.69e+05</td>\n",
       "</tr>\n",
       "</table>\n",
       "<table class=\"simpletable\">\n",
       "<tr>\n",
       "  <th>Omnibus:</th>       <td>55.997</td> <th>  Durbin-Watson:     </th> <td>   0.841</td>\n",
       "</tr>\n",
       "<tr>\n",
       "  <th>Prob(Omnibus):</th> <td> 0.000</td> <th>  Jarque-Bera (JB):  </th> <td>  98.614</td>\n",
       "</tr>\n",
       "<tr>\n",
       "  <th>Skew:</th>          <td> 0.860</td> <th>  Prob(JB):          </th> <td>3.86e-22</td>\n",
       "</tr>\n",
       "<tr>\n",
       "  <th>Kurtosis:</th>      <td> 4.822</td> <th>  Cond. No.          </th> <td>    86.1</td>\n",
       "</tr>\n",
       "</table><br/><br/>Warnings:<br/>[1] Standard Errors assume that the covariance matrix of the errors is correctly specified."
      ],
      "text/plain": [
       "<class 'statsmodels.iolib.summary.Summary'>\n",
       "\"\"\"\n",
       "                            OLS Regression Results                            \n",
       "==============================================================================\n",
       "Dep. Variable:           Q(\"2018-19\")   R-squared:                       0.455\n",
       "Model:                            OLS   Adj. R-squared:                  0.451\n",
       "Method:                 Least Squares   F-statistic:                     103.8\n",
       "Date:                Mon, 17 Sep 2018   Prob (F-statistic):           7.23e-49\n",
       "Time:                        13:37:29   Log-Likelihood:                -6424.5\n",
       "No. Observations:                 377   AIC:                         1.286e+04\n",
       "Df Residuals:                     373   BIC:                         1.287e+04\n",
       "Df Model:                           3                                         \n",
       "Covariance Type:            nonrobust                                         \n",
       "==============================================================================\n",
       "                 coef    std err          t      P>|t|      [0.025      0.975]\n",
       "------------------------------------------------------------------------------\n",
       "Intercept   4.755e+05   6.14e+05      0.775      0.439   -7.31e+05    1.68e+06\n",
       "Q(\"PS/G\")   4.994e+05   8.42e+04      5.933      0.000    3.34e+05    6.65e+05\n",
       "GS          4.654e+04   1.61e+04      2.896      0.004    1.49e+04    7.81e+04\n",
       "WS          6.373e+05   1.69e+05      3.776      0.000    3.05e+05    9.69e+05\n",
       "==============================================================================\n",
       "Omnibus:                       55.997   Durbin-Watson:                   0.841\n",
       "Prob(Omnibus):                  0.000   Jarque-Bera (JB):               98.614\n",
       "Skew:                           0.860   Prob(JB):                     3.86e-22\n",
       "Kurtosis:                       4.822   Cond. No.                         86.1\n",
       "==============================================================================\n",
       "\n",
       "Warnings:\n",
       "[1] Standard Errors assume that the covariance matrix of the errors is correctly specified.\n",
       "\"\"\""
      ]
     },
     "execution_count": 19,
     "metadata": {},
     "output_type": "execute_result"
    }
   ],
   "source": [
    "m2.summary()"
   ]
  },
  {
   "cell_type": "markdown",
   "metadata": {},
   "source": [
    "Just by using a simple OLS with 3 varibles instead of 1, the $R^2$ value increase by half a decimal point. Neither is very good yet. One thing to note is that the **Skew** and the **Kurtosis** on this second OLS have increased. The higher kurtosis value means that it is more leptokurtic, resulting in more outliers. However, the Skewness is still less than the common threshold value of 1, which means that, though not symmetric, it is still not abundantly so. "
   ]
  },
  {
   "cell_type": "markdown",
   "metadata": {},
   "source": [
    "### Trying OLS with the second run in the Inferential Statistics portion of the project when I slowly removed a feature until they were all significant"
   ]
  },
  {
   "cell_type": "code",
   "execution_count": 20,
   "metadata": {},
   "outputs": [],
   "source": [
    "m_all = ols('Q(\"2018-19\") ~ G + AST + Q(\"PS/G\") + WS + Q(\"AST%\")',stats2018).fit()"
   ]
  },
  {
   "cell_type": "code",
   "execution_count": 21,
   "metadata": {},
   "outputs": [
    {
     "data": {
      "text/plain": [
       "33763036149101.55"
      ]
     },
     "execution_count": 21,
     "metadata": {},
     "output_type": "execute_result"
    }
   ],
   "source": [
    "MSE3 = metrics.mean_squared_error(target, m_all.fittedvalues)\n",
    "MSE3"
   ]
  },
  {
   "cell_type": "code",
   "execution_count": 22,
   "metadata": {},
   "outputs": [
    {
     "data": {
      "text/plain": [
       "0.5039385820964951"
      ]
     },
     "execution_count": 22,
     "metadata": {},
     "output_type": "execute_result"
    }
   ],
   "source": [
    "m_all.rsquared"
   ]
  },
  {
   "cell_type": "code",
   "execution_count": 23,
   "metadata": {},
   "outputs": [
    {
     "data": {
      "text/html": [
       "<table class=\"simpletable\">\n",
       "<caption>OLS Regression Results</caption>\n",
       "<tr>\n",
       "  <th>Dep. Variable:</th>      <td>Q(\"2018-19\")</td>   <th>  R-squared:         </th> <td>   0.504</td> \n",
       "</tr>\n",
       "<tr>\n",
       "  <th>Model:</th>                   <td>OLS</td>       <th>  Adj. R-squared:    </th> <td>   0.497</td> \n",
       "</tr>\n",
       "<tr>\n",
       "  <th>Method:</th>             <td>Least Squares</td>  <th>  F-statistic:       </th> <td>   75.38</td> \n",
       "</tr>\n",
       "<tr>\n",
       "  <th>Date:</th>             <td>Mon, 17 Sep 2018</td> <th>  Prob (F-statistic):</th> <td>2.30e-54</td> \n",
       "</tr>\n",
       "<tr>\n",
       "  <th>Time:</th>                 <td>13:37:30</td>     <th>  Log-Likelihood:    </th> <td> -6406.8</td> \n",
       "</tr>\n",
       "<tr>\n",
       "  <th>No. Observations:</th>      <td>   377</td>      <th>  AIC:               </th> <td>1.283e+04</td>\n",
       "</tr>\n",
       "<tr>\n",
       "  <th>Df Residuals:</th>          <td>   371</td>      <th>  BIC:               </th> <td>1.285e+04</td>\n",
       "</tr>\n",
       "<tr>\n",
       "  <th>Df Model:</th>              <td>     5</td>      <th>                     </th>     <td> </td>    \n",
       "</tr>\n",
       "<tr>\n",
       "  <th>Covariance Type:</th>      <td>nonrobust</td>    <th>                     </th>     <td> </td>    \n",
       "</tr>\n",
       "</table>\n",
       "<table class=\"simpletable\">\n",
       "<tr>\n",
       "      <td></td>         <th>coef</th>     <th>std err</th>      <th>t</th>      <th>P>|t|</th>  <th>[0.025</th>    <th>0.975]</th>  \n",
       "</tr>\n",
       "<tr>\n",
       "  <th>Intercept</th> <td> 6.782e+06</td> <td> 1.14e+06</td> <td>    5.970</td> <td> 0.000</td> <td> 4.55e+06</td> <td> 9.02e+06</td>\n",
       "</tr>\n",
       "<tr>\n",
       "  <th>G</th>         <td>-9.547e+04</td> <td> 1.66e+04</td> <td>   -5.748</td> <td> 0.000</td> <td>-1.28e+05</td> <td>-6.28e+04</td>\n",
       "</tr>\n",
       "<tr>\n",
       "  <th>AST</th>       <td> 2.481e+06</td> <td> 6.09e+05</td> <td>    4.077</td> <td> 0.000</td> <td> 1.28e+06</td> <td> 3.68e+06</td>\n",
       "</tr>\n",
       "<tr>\n",
       "  <th>Q(\"PS/G\")</th> <td>  4.58e+05</td> <td> 8.85e+04</td> <td>    5.173</td> <td> 0.000</td> <td> 2.84e+05</td> <td> 6.32e+05</td>\n",
       "</tr>\n",
       "<tr>\n",
       "  <th>WS</th>        <td> 1.112e+06</td> <td> 1.74e+05</td> <td>    6.398</td> <td> 0.000</td> <td> 7.71e+05</td> <td> 1.45e+06</td>\n",
       "</tr>\n",
       "<tr>\n",
       "  <th>Q(\"AST%\")</th> <td>-4.218e+05</td> <td> 1.07e+05</td> <td>   -3.958</td> <td> 0.000</td> <td>-6.31e+05</td> <td>-2.12e+05</td>\n",
       "</tr>\n",
       "</table>\n",
       "<table class=\"simpletable\">\n",
       "<tr>\n",
       "  <th>Omnibus:</th>       <td>26.562</td> <th>  Durbin-Watson:     </th> <td>   0.970</td>\n",
       "</tr>\n",
       "<tr>\n",
       "  <th>Prob(Omnibus):</th> <td> 0.000</td> <th>  Jarque-Bera (JB):  </th> <td>  35.113</td>\n",
       "</tr>\n",
       "<tr>\n",
       "  <th>Skew:</th>          <td> 0.550</td> <th>  Prob(JB):          </th> <td>2.37e-08</td>\n",
       "</tr>\n",
       "<tr>\n",
       "  <th>Kurtosis:</th>      <td> 4.013</td> <th>  Cond. No.          </th> <td>    256.</td>\n",
       "</tr>\n",
       "</table><br/><br/>Warnings:<br/>[1] Standard Errors assume that the covariance matrix of the errors is correctly specified."
      ],
      "text/plain": [
       "<class 'statsmodels.iolib.summary.Summary'>\n",
       "\"\"\"\n",
       "                            OLS Regression Results                            \n",
       "==============================================================================\n",
       "Dep. Variable:           Q(\"2018-19\")   R-squared:                       0.504\n",
       "Model:                            OLS   Adj. R-squared:                  0.497\n",
       "Method:                 Least Squares   F-statistic:                     75.38\n",
       "Date:                Mon, 17 Sep 2018   Prob (F-statistic):           2.30e-54\n",
       "Time:                        13:37:30   Log-Likelihood:                -6406.8\n",
       "No. Observations:                 377   AIC:                         1.283e+04\n",
       "Df Residuals:                     371   BIC:                         1.285e+04\n",
       "Df Model:                           5                                         \n",
       "Covariance Type:            nonrobust                                         \n",
       "==============================================================================\n",
       "                 coef    std err          t      P>|t|      [0.025      0.975]\n",
       "------------------------------------------------------------------------------\n",
       "Intercept   6.782e+06   1.14e+06      5.970      0.000    4.55e+06    9.02e+06\n",
       "G          -9.547e+04   1.66e+04     -5.748      0.000   -1.28e+05   -6.28e+04\n",
       "AST         2.481e+06   6.09e+05      4.077      0.000    1.28e+06    3.68e+06\n",
       "Q(\"PS/G\")    4.58e+05   8.85e+04      5.173      0.000    2.84e+05    6.32e+05\n",
       "WS          1.112e+06   1.74e+05      6.398      0.000    7.71e+05    1.45e+06\n",
       "Q(\"AST%\")  -4.218e+05   1.07e+05     -3.958      0.000   -6.31e+05   -2.12e+05\n",
       "==============================================================================\n",
       "Omnibus:                       26.562   Durbin-Watson:                   0.970\n",
       "Prob(Omnibus):                  0.000   Jarque-Bera (JB):               35.113\n",
       "Skew:                           0.550   Prob(JB):                     2.37e-08\n",
       "Kurtosis:                       4.013   Cond. No.                         256.\n",
       "==============================================================================\n",
       "\n",
       "Warnings:\n",
       "[1] Standard Errors assume that the covariance matrix of the errors is correctly specified.\n",
       "\"\"\""
      ]
     },
     "execution_count": 23,
     "metadata": {},
     "output_type": "execute_result"
    }
   ],
   "source": [
    "m_all.summary()"
   ]
  },
  {
   "cell_type": "markdown",
   "metadata": {},
   "source": [
    "This time, the skew went down a lot and the Kurtosis went down a lot too. This leads me to believe that this may be the best model for me to use. The rsquared value increased by another 0.05, and the F-statistic decreased by another order of 5. The p-values all remain around 0, meaning they are all significant to the model. \n",
    "\n",
    "The largest coefficient belongs to the AST category, at 2,481,000, meaning if all else held constant, increasing your assists by 1, you will earn an added $2,481,000. This makes sense because, on average, players average a lot less assists than points and rebounds. The league leader in Assists last year was Russell Westbrook, who averaged 10.3, the only player with over 10 assists per game, while the highest points per game was James Harden with 30.4 and rebounds was Andre Drummond with 16.0. So pound for pound, assists are hardest to increase.\n",
    "\n",
    "It was surprising to see that Games Played had a negative coefficient, meaning with all else held constant, increasing the number of games you play by 1 will decrease your salary by $95,470. I believe, that though this is an interesting revelation, it makes sense as a player who can average more points and get more WS in less games is more valuable than a player who can do the same over an increased number of games. "
   ]
  },
  {
   "cell_type": "code",
   "execution_count": 24,
   "metadata": {},
   "outputs": [
    {
     "data": {
      "image/png": "[encoded data removed]",
      "text/plain": [
       "<Figure size 432x288 with 1 Axes>"
      ]
     },
     "metadata": {},
     "output_type": "display_data"
    }
   ],
   "source": [
    "_ = plt.scatter(m_all.fittedvalues, target, s = 10)\n",
    "_ = plt.xlabel('fitted')\n",
    "_ = plt.ylabel('Actual')\n",
    "_ = plt.title('OLS with Points 5 features')\n",
    "_ = plt.plot([0,3e7],[0,3e7], color = 'r')"
   ]
  },
  {
   "cell_type": "markdown",
   "metadata": {},
   "source": [
    "The scatter plot a bit better, with the flat floor ending sooner than it does on the previous 2. \n",
    "\n",
    "These \"flat floors\" where the fitted value is predicted to be higher than the actual, which is close to 0, is most likely caused by the minimum salary that player's can be paid, where player's with all different types of stats are all paid the same amount because of the minimum salary. "
   ]
  },
  {
   "cell_type": "markdown",
   "metadata": {},
   "source": [
    "### Using a Linear Regression model with the 5 features used in last OLS"
   ]
  },
  {
   "cell_type": "code",
   "execution_count": 25,
   "metadata": {},
   "outputs": [],
   "source": [
    "X = stats2018[['G', 'AST', 'PS/G', 'WS' ,'AST%']]\n"
   ]
  },
  {
   "cell_type": "code",
   "execution_count": 26,
   "metadata": {},
   "outputs": [],
   "source": [
    "from sklearn import linear_model\n",
    "from sklearn import model_selection\n",
    "\n",
    "reg = linear_model.LinearRegression()\n",
    "#cv_results = cross_validation.cross_val_score(reg, X, target, cv = 5)"
   ]
  },
  {
   "cell_type": "code",
   "execution_count": 27,
   "metadata": {},
   "outputs": [],
   "source": [
    "X_train, X_test, y_train, y_test = model_selection.train_test_split(X, target, test_size = 0.3, random_state = 4)"
   ]
  },
  {
   "cell_type": "code",
   "execution_count": 28,
   "metadata": {},
   "outputs": [
    {
     "data": {
      "text/plain": [
       "LinearRegression(copy_X=True, fit_intercept=True, n_jobs=1, normalize=False)"
      ]
     },
     "execution_count": 28,
     "metadata": {},
     "output_type": "execute_result"
    }
   ],
   "source": [
    "reg.fit(X_train, y_train)"
   ]
  },
  {
   "cell_type": "code",
   "execution_count": 29,
   "metadata": {},
   "outputs": [],
   "source": [
    "y_pred = reg.predict(X_test).reshape(-1,1)"
   ]
  },
  {
   "cell_type": "code",
   "execution_count": 30,
   "metadata": {},
   "outputs": [
    {
     "data": {
      "text/plain": [
       "0.4367324089069351"
      ]
     },
     "execution_count": 30,
     "metadata": {},
     "output_type": "execute_result"
    }
   ],
   "source": [
    "reg.score(X_test, y_test)"
   ]
  },
  {
   "cell_type": "code",
   "execution_count": 31,
   "metadata": {},
   "outputs": [
    {
     "data": {
      "text/plain": [
       "37034208229841.25"
      ]
     },
     "execution_count": 31,
     "metadata": {},
     "output_type": "execute_result"
    }
   ],
   "source": [
    "MSE_lin = metrics.mean_squared_error(y_pred, y_test)\n",
    "MSE_lin"
   ]
  },
  {
   "cell_type": "code",
   "execution_count": 32,
   "metadata": {},
   "outputs": [
    {
     "data": {
      "image/png": "[encoded data removed]",
      "text/plain": [
       "<Figure size 432x288 with 1 Axes>"
      ]
     },
     "metadata": {},
     "output_type": "display_data"
    }
   ],
   "source": [
    "_ = plt.scatter(y_pred, y_test, s = 10)\n",
    "_ = plt.xlabel('Predicted Values')\n",
    "_ = plt.ylabel('Actual Values')\n",
    "_ = plt.title('Predictions of Test Set with Linear Regression')\n",
    "_ = plt.plot([0,3e7],[0,3e7], color = 'r')"
   ]
  },
  {
   "cell_type": "markdown",
   "metadata": {},
   "source": [
    "Trying with cross validation. The purpose of this is that 'train_test_split' has very high variance, meaning the R^2 value can be very different depending on which datapoints were chosen for the training set and which were chosen for the testing set. Cross Validation does this multiple times using each section as a test set, so that every point is eventually used as both a testing and a training set. \n",
    "\n",
    "For some reason, running the Cross Validation with unshuffled data was resulting in extremely negative scores (the largest was -4,000), but after shuffling the data and then returning it to the cv, I recieved much better scores. "
   ]
  },
  {
   "cell_type": "code",
   "execution_count": 33,
   "metadata": {},
   "outputs": [],
   "source": [
    "cv = stats2018[['2018-19','G','PS/G','AST%','AST','WS']]\n",
    "cv = cv.sample(frac = 1, random_state = 5)\n",
    "X_cv = cv.drop('2018-19', axis = 1)\n",
    "y_cv = cv['2018-19']"
   ]
  },
  {
   "cell_type": "code",
   "execution_count": 34,
   "metadata": {},
   "outputs": [
    {
     "data": {
      "text/plain": [
       "0.453372435591023"
      ]
     },
     "execution_count": 34,
     "metadata": {},
     "output_type": "execute_result"
    }
   ],
   "source": [
    "cv_results = model_selection.cross_val_score(reg, X_cv, y_cv, cv = 10)\n",
    "cv_results.mean()"
   ]
  },
  {
   "cell_type": "markdown",
   "metadata": {},
   "source": [
    "The results are scored with a R^2 metric, which is between 0 and 1, so this model is at least somewhat effective at predicting the salaries of the player. "
   ]
  },
  {
   "cell_type": "markdown",
   "metadata": {
    "collapsed": true
   },
   "source": [
    "### Going to try Lasso Regression and Cross Validate for different Meta-Parameters"
   ]
  },
  {
   "cell_type": "code",
   "execution_count": 35,
   "metadata": {},
   "outputs": [],
   "source": [
    "cvl = stats2018.sample(frac = 1, random_state =5)\n",
    "X_las = cvl.drop(['2018-19', 'Pos','Name','Tm'], axis = 1)\n",
    "y_las = cvl['2018-19']"
   ]
  },
  {
   "cell_type": "code",
   "execution_count": 36,
   "metadata": {},
   "outputs": [],
   "source": [
    "for col in X_las.columns:\n",
    "    X_las[col].fillna(X_las[col].median(), inplace = True)\n"
   ]
  },
  {
   "cell_type": "code",
   "execution_count": 37,
   "metadata": {},
   "outputs": [],
   "source": [
    "alphas = [0.001,0.1, 1, 10, 50, 1000]"
   ]
  },
  {
   "cell_type": "code",
   "execution_count": 38,
   "metadata": {},
   "outputs": [
    {
     "name": "stdout",
     "output_type": "stream",
     "text": [
      "0.8122079283184007 0.001\n",
      "0.8122079841273282 0.1\n",
      "0.8122084914677146 1\n",
      "0.8122135635338106 10\n",
      "0.8122360766219183 50\n",
      "0.8127492189342982 1000\n"
     ]
    }
   ],
   "source": [
    "from sklearn.linear_model import Lasso\n",
    "\n",
    "results = []\n",
    "\n",
    "for alpha in alphas:\n",
    "    lasso = Lasso(alpha = alpha, tol = 0.1)\n",
    "    lasso_cv = model_selection.cross_val_score(lasso, X_las, y_las, cv= 10)\n",
    "    print(lasso_cv.mean(), alpha)\n"
   ]
  },
  {
   "cell_type": "code",
   "execution_count": 39,
   "metadata": {},
   "outputs": [],
   "source": [
    "lasso_best = Lasso(alpha = 1000, tol = 0.1)\n",
    "Xl_train, Xl_test, yl_train, yl_test = model_selection.train_test_split(X_las, y_las, test_size = 0.3, random_state = 4)\n",
    "lasso_best.fit(Xl_train, yl_train)\n",
    "y_pred_lasso = lasso_best.predict(Xl_test)"
   ]
  },
  {
   "cell_type": "code",
   "execution_count": 40,
   "metadata": {},
   "outputs": [
    {
     "data": {
      "image/png": "[encoded data removed]",
      "text/plain": [
       "<Figure size 432x288 with 1 Axes>"
      ]
     },
     "metadata": {},
     "output_type": "display_data"
    }
   ],
   "source": [
    "_ = plt.scatter(y_pred_lasso, yl_test, s = 10)\n",
    "_ = plt.plot([0,3e7],[0,3e7], color = 'r')\n",
    "_ = plt.xlabel('Predicted Salaries with Lasso Regression')\n",
    "_ = plt.ylabel('True Salaries')\n",
    "_ = plt.title('Lasso Regression with alpha = 0.1')"
   ]
  },
  {
   "cell_type": "code",
   "execution_count": 41,
   "metadata": {},
   "outputs": [
    {
     "data": {
      "text/plain": [
       "0.8271404067289335"
      ]
     },
     "execution_count": 41,
     "metadata": {},
     "output_type": "execute_result"
    }
   ],
   "source": [
    "lasso_best.score(Xl_test,yl_test)"
   ]
  },
  {
   "cell_type": "code",
   "execution_count": 42,
   "metadata": {},
   "outputs": [
    {
     "data": {
      "text/plain": [
       "0.8127492189342982"
      ]
     },
     "execution_count": 42,
     "metadata": {},
     "output_type": "execute_result"
    }
   ],
   "source": [
    "results_lasso = model_selection.cross_val_score(lasso_best, X_las, y_las, cv= 10)\n",
    "results_lasso.mean()"
   ]
  },
  {
   "cell_type": "code",
   "execution_count": 43,
   "metadata": {},
   "outputs": [
    {
     "data": {
      "text/plain": [
       "10855721229744.762"
      ]
     },
     "execution_count": 43,
     "metadata": {},
     "output_type": "execute_result"
    }
   ],
   "source": [
    "MSE_lasso = metrics.mean_squared_error(y_pred_lasso, yl_test)\n",
    "MSE_lasso"
   ]
  },
  {
   "cell_type": "markdown",
   "metadata": {
    "collapsed": true
   },
   "source": [
    "### Lasso Regression has improved the score to 0.827 (0.813 from Cross-Validation) from 0.45, and reduced the MSE to 10^12 which is still very high, but lower than 37^12 that I got from the normal Linear Regression."
   ]
  },
  {
   "cell_type": "markdown",
   "metadata": {},
   "source": [
    "As you can see, the regression seems to overpredict up to the $20,000,000 mark, where the Regression is generally predicting a bit higher than the true salaries. There are also a few points that were predicted as a negative salary. These salaries are all actually incredibly low. As we saw in the histograms and scatter plots, salaries had a hard floor because of the minimum salary that players can be paid, so even if their stats should make them be paid less, they were paid that amount, and the regression is predicted that salary as negative. "
   ]
  },
  {
   "cell_type": "markdown",
   "metadata": {},
   "source": [
    "### Using a Ridge Regression model "
   ]
  },
  {
   "cell_type": "code",
   "execution_count": 44,
   "metadata": {},
   "outputs": [],
   "source": [
    "from sklearn.linear_model import Ridge\n",
    "ridge_best = Ridge(alpha = 1000, tol = 0.1)\n",
    "Xr_train, Xr_test, yr_train, yr_test = model_selection.train_test_split(X_las, y_las, test_size = 0.3, random_state = 4)\n",
    "ridge_best.fit(Xr_train, yr_train)\n",
    "y_pred_ridge = ridge_best.predict(Xr_test)"
   ]
  },
  {
   "cell_type": "code",
   "execution_count": 45,
   "metadata": {},
   "outputs": [
    {
     "data": {
      "text/plain": [
       "0.8439333556610973"
      ]
     },
     "execution_count": 45,
     "metadata": {},
     "output_type": "execute_result"
    }
   ],
   "source": [
    "ridge_best.score(Xr_test, yr_test)"
   ]
  },
  {
   "cell_type": "code",
   "execution_count": 46,
   "metadata": {},
   "outputs": [
    {
     "data": {
      "image/png": "[encoded data removed]",
      "text/plain": [
       "<Figure size 432x288 with 1 Axes>"
      ]
     },
     "metadata": {},
     "output_type": "display_data"
    }
   ],
   "source": [
    "_ = plt.scatter(y_pred_ridge, yr_test, s = 10)\n",
    "_ = plt.plot([0, 3e7],[0,3e7], color = 'r')"
   ]
  },
  {
   "cell_type": "code",
   "execution_count": 47,
   "metadata": {},
   "outputs": [
    {
     "data": {
      "text/plain": [
       "0.8280941649813668"
      ]
     },
     "execution_count": 47,
     "metadata": {},
     "output_type": "execute_result"
    }
   ],
   "source": [
    "ridge_score = model_selection.cross_val_score(ridge_best, X_las, y_las, cv= 10)\n",
    "ridge_score.mean()"
   ]
  },
  {
   "cell_type": "code",
   "execution_count": 48,
   "metadata": {},
   "outputs": [
    {
     "data": {
      "text/plain": [
       "9801110555363.27"
      ]
     },
     "execution_count": 48,
     "metadata": {},
     "output_type": "execute_result"
    }
   ],
   "source": [
    "MSE_ridge = metrics.mean_squared_error(y_pred_ridge, yr_test)\n",
    "MSE_ridge"
   ]
  },
  {
   "cell_type": "markdown",
   "metadata": {},
   "source": [
    "#### The model yielded a better performing model, but not by much. The score was 0.828 in this regression. The MSE is also under 10^12"
   ]
  },
  {
   "cell_type": "code",
   "execution_count": null,
   "metadata": {},
   "outputs": [],
   "source": []
  },
  {
   "cell_type": "code",
   "execution_count": null,
   "metadata": {},
   "outputs": [],
   "source": []
  },
  {
   "cell_type": "code",
   "execution_count": null,
   "metadata": {},
   "outputs": [],
   "source": []
  },
  {
   "cell_type": "code",
   "execution_count": null,
   "metadata": {},
   "outputs": [],
   "source": []
  }
 ],
 "metadata": {
  "kernelspec": {
   "display_name": "Python 3",
   "language": "python",
   "name": "python3"
  },
  "language_info": {
   "codemirror_mode": {
    "name": "ipython",
    "version": 3
   },
   "file_extension": ".py",
   "mimetype": "text/x-python",
   "name": "python",
   "nbconvert_exporter": "python",
   "pygments_lexer": "ipython3",
   "version": "3.6.5"
  }
 },
 "nbformat": 4,
 "nbformat_minor": 1
}
