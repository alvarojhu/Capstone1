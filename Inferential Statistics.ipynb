{
 "cells": [
  {
   "cell_type": "code",
   "execution_count": 251,
   "metadata": {
    "collapsed": false
   },
   "outputs": [],
   "source": [
    "%matplotlib inline\n",
    "\n",
    "\n",
    "import pandas as pd\n",
    "import scipy as stats\n",
    "import seaborn as sns\n",
    "\n",
    "import matplotlib.pyplot as plt\n",
    "import numpy as np"
   ]
  },
  {
   "cell_type": "markdown",
   "metadata": {},
   "source": [
    "## Inferential Statistics\n",
    "\n",
    "My goal in this section is to statistically prove a few things. I want to see with a 95% certainty that there is indeed a strong correlation between points and salary, WS and salary, and Minutes/Game and Salary. I will run bootstrap samples and check to see if there what the probability is that any of these correlations only happened by chance. If the probability of achieving a correlation of what I had in each one is lower than 5%, then I will say that the two statistics are significantly correlated.\n",
    "\n",
    "I will also run Mann-Whitney tests to make sure that my conclusions are sound. \n",
    "\n",
    "My other goal in this section is to prove that there are real differences in the mean salary between some teams and positions. To do this, I will shuffle up the salaries and the players, then regroup them into teams and take the average salary again. I will take boostraps of this and see what the probability is of yieling a value as strong as the empirical mean difference between the two teams. \n"
   ]
  },
  {
   "cell_type": "code",
   "execution_count": 252,
   "metadata": {
    "collapsed": false
   },
   "outputs": [],
   "source": [
    "Total2018 = pd.read_csv('Total2018_full')\n",
    "Total2018 = Total2018.drop(labels = ['Unnamed: 0','Unnamed: 0.1'] , axis = 1)"
   ]
  },
  {
   "cell_type": "code",
   "execution_count": 253,
   "metadata": {
    "collapsed": false
   },
   "outputs": [
    {
     "data": {
      "text/plain": [
       "Index([u'Rk', u'Tm', u'2018-19', u'Name', u'Pos', u'G', u'GS', u'FG', u'FG%',\n",
       "       u'3P', u'3P%', u'eFG%', u'FT%', u'ORB', u'TRB', u'AST', u'STL', u'BLK',\n",
       "       u'PS/G', u'TOV', u'Age', u'WS', u'PER', u'MP', u'TRB%', u'AST%',\n",
       "       u'TOV%', u'OWS', u'DWS', u'M/G', u'AST/TOV', u'dollar_per_p/g'],\n",
       "      dtype='object')"
      ]
     },
     "execution_count": 253,
     "metadata": {},
     "output_type": "execute_result"
    }
   ],
   "source": [
    "Total2018.columns\n"
   ]
  },
  {
   "cell_type": "markdown",
   "metadata": {},
   "source": [
    "#### Performing a permutation test on the $\\rho$ for Points per Game and Salary at an $\\alpha$ = 0.05 level"
   ]
  },
  {
   "cell_type": "code",
   "execution_count": 254,
   "metadata": {
    "collapsed": false
   },
   "outputs": [
    {
     "name": "stderr",
     "output_type": "stream",
     "text": [
      "C:\\Users\\miste\\Miniconda3\\envs\\tutorial\\lib\\site-packages\\matplotlib\\figure.py:1718: UserWarning: This figure includes Axes that are not compatible with tight_layout, so its results might be incorrect.\n",
      "  warnings.warn(\"This figure includes Axes that are not \"\n"
     ]
    },
    {
     "data": {
      "image/png": "[encoded data removed]",
      "text/plain": [
       "<matplotlib.figure.Figure at 0x1d4e8940>"
      ]
     },
     "metadata": {},
     "output_type": "display_data"
    }
   ],
   "source": [
    "n_bins = 20\n",
    "_ = fig, axs = plt.subplots(2, 2, sharey=True, tight_layout=True)\n",
    "_ = axs[0,0].hist(Total2018['PS/G'], bins=n_bins)\n",
    "_ = axs[0,0].set_title('Points per Game')\n",
    "_ = axs[0,1].hist(Total2018['TRB'], bins=n_bins)\n",
    "_ = axs[0,1].set_title('Rebounds per Game')\n",
    "_ = axs[1,0].hist(Total2018['WS'], bins=n_bins)\n",
    "_ = axs[1,0].set_title('Win Shares')\n",
    "_ = axs[1,1].hist(Total2018['M/G'], bins=n_bins)\n",
    "_ = axs[1,1].set_title('Minutes per Game')\n",
    "\n"
   ]
  },
  {
   "cell_type": "markdown",
   "metadata": {},
   "source": [
    "As you can see from the plots above, the four variables that I believe to be most important to a player's salary are not normal, and tend to be skewed to the right. Because of this, I will run normal tests that you usually run for normal distributions, but I will also do a Mann-Whitney test for each of them, and see if the results differ at all. "
   ]
  },
  {
   "cell_type": "code",
   "execution_count": 255,
   "metadata": {
    "collapsed": true
   },
   "outputs": [],
   "source": [
    "def pearson_r(data_1, data_2):\n",
    "    r = np.corrcoef(data_1, data_2)[0, 1]\n",
    "    return r"
   ]
  },
  {
   "cell_type": "code",
   "execution_count": 312,
   "metadata": {
    "collapsed": false
   },
   "outputs": [
    {
     "data": {
      "text/plain": [
       "0.6369452628098151"
      ]
     },
     "execution_count": 312,
     "metadata": {},
     "output_type": "execute_result"
    }
   ],
   "source": [
    "emp_points_coeff = pearson_r(Total2018['PS/G'],Total2018['2018-19'])\n",
    "emp_points_coeff"
   ]
  },
  {
   "cell_type": "markdown",
   "metadata": {},
   "source": [
    "\n",
    "H_0: $\\rho$ = 0.637\n",
    "\n",
    "H_a: $\\rho$ $\\neq$ 0.637\n",
    "\n",
    "Where $\\rho$ is the Pearson Correlation Coefficient."
   ]
  },
  {
   "cell_type": "code",
   "execution_count": 316,
   "metadata": {
    "collapsed": false
   },
   "outputs": [
    {
     "data": {
      "text/plain": [
       "0.004"
      ]
     },
     "execution_count": 316,
     "metadata": {},
     "output_type": "execute_result"
    }
   ],
   "source": [
    "#In this loop, I shuffle the dataframe, keeping the pairs, but then slice out the last 10 percent of points. I then shuffle\n",
    "#the salary data while keeping the points per game data unshuffled, and put them back together, so that they have new pairs. \n",
    "#Finally, I put this shuffled 10% of the data back with the other 90% of the data and take the new correlation. I do this 10,000 times.\n",
    "import random\n",
    "perm_data = np.empty(10000)\n",
    "for i in range(10000):\n",
    "    shuffled = Total2018[['2018-19','PS/G']].sample(frac = 1)\n",
    "    unshuffled = shuffled[:int(round(len(shuffled)*0.9))]\n",
    "    shuffled2 = shuffled[int(round(len(shuffled)*0.9)):]\n",
    "    \n",
    "    permuted = random.sample(shuffled2['2018-19'], len(shuffled2['2018-19']))\n",
    "    permuted_frame = pd.DataFrame({'2018-19':permuted, 'PS/G': list(shuffled2['PS/G'].values)})\n",
    "    \n",
    "    total_shuff= unshuffled.append(permuted_frame)\n",
    "    perm_data[i] = (pearson_r(total_shuff['2018-19'], total_shuff['PS/G']))\n",
    "p = np.sum(perm_data >= emp_points_coeff)/ float(len(perm_data))\n",
    "p * 2 #since two sided test"
   ]
  },
  {
   "cell_type": "markdown",
   "metadata": {},
   "source": [
    "As you can see, the correlation is significant. I recieved a p of 0.004. Since p < $\\alpha$, we can reject the null hypthesis that the pearson correlation coefficient is 0. "
   ]
  },
  {
   "cell_type": "markdown",
   "metadata": {},
   "source": [
    "### Using the Mann-Whitney test for non-normal distributions. "
   ]
  },
  {
   "cell_type": "code",
   "execution_count": 306,
   "metadata": {
    "collapsed": false,
    "scrolled": true
   },
   "outputs": [
    {
     "data": {
      "text/plain": [
       "MannwhitneyuResult(statistic=142129.0, pvalue=3.832579953165935e-125)"
      ]
     },
     "execution_count": 306,
     "metadata": {},
     "output_type": "execute_result"
    }
   ],
   "source": [
    "MannWhitney_points = stats.stats.mannwhitneyu(Total2018['2018-19'], Total2018['PS/G'], alternative = 'greater')\n",
    "MannWhitney_points"
   ]
  },
  {
   "cell_type": "markdown",
   "metadata": {},
   "source": [
    "Using the Mann Whitney test, our conclusion is even more convincing, at a p-value of the order of -125. This is definitely lower than 0.05. "
   ]
  },
  {
   "cell_type": "markdown",
   "metadata": {},
   "source": [
    "#### Performing permutation test on Win Shares vs Salary"
   ]
  },
  {
   "cell_type": "code",
   "execution_count": 259,
   "metadata": {
    "collapsed": false
   },
   "outputs": [
    {
     "data": {
      "text/plain": [
       "0.5914251612628756"
      ]
     },
     "execution_count": 259,
     "metadata": {},
     "output_type": "execute_result"
    }
   ],
   "source": [
    "emp_WS_coeff = pearson_r(Total2018['2018-19'],Total2018['WS'])\n",
    "emp_WS_coeff"
   ]
  },
  {
   "cell_type": "markdown",
   "metadata": {},
   "source": [
    "\n",
    "H_0: $\\rho$ = 0.591\n",
    "\n",
    "H_a: $\\rho$ $\\neq$ 0.591\n",
    "\n",
    "Where $\\rho$ is the Pearson Correlation Coefficient."
   ]
  },
  {
   "cell_type": "code",
   "execution_count": 317,
   "metadata": {
    "collapsed": false
   },
   "outputs": [
    {
     "data": {
      "text/plain": [
       "0.015"
      ]
     },
     "execution_count": 317,
     "metadata": {},
     "output_type": "execute_result"
    }
   ],
   "source": [
    "import random\n",
    "perm_data = np.empty(10000)\n",
    "for i in range(10000):\n",
    "    shuffled = Total2018[['2018-19','WS']].sample(frac = 1)\n",
    "    unshuffled = shuffled[:int(round(len(shuffled)*0.9))]\n",
    "    shuffled2 = shuffled[int(round(len(shuffled)*0.9)):]\n",
    "    \n",
    "    permuted = random.sample(shuffled2['2018-19'], len(shuffled2['2018-19']))\n",
    "    permuted_frame = pd.DataFrame({'2018-19':permuted, 'WS': list(shuffled2['WS'].values)})\n",
    "    \n",
    "    total_shuff= unshuffled.append(permuted_frame)\n",
    "    perm_data[i] = (pearson_r(total_shuff['2018-19'], total_shuff['WS']))\n",
    "p = np.sum(perm_data >= emp_WS_coeff)/ float(len(perm_data))\n",
    "p*2"
   ]
  },
  {
   "cell_type": "markdown",
   "metadata": {},
   "source": [
    "Since 0.015 > 0.05, we cannot say that $\\rho$ $\\neq$ 0.519"
   ]
  },
  {
   "cell_type": "code",
   "execution_count": 318,
   "metadata": {
    "collapsed": false
   },
   "outputs": [
    {
     "data": {
      "text/plain": [
       "MannwhitneyuResult(statistic=142129.0, pvalue=3.789433018467404e-125)"
      ]
     },
     "execution_count": 318,
     "metadata": {},
     "output_type": "execute_result"
    }
   ],
   "source": [
    "MannWhitney_WS = stats.stats.mannwhitneyu(Total2018['2018-19'], Total2018['WS'], alternative = 'greater')\n",
    "MannWhitney_WS"
   ]
  },
  {
   "cell_type": "markdown",
   "metadata": {},
   "source": [
    "Performing tests on rebounds"
   ]
  },
  {
   "cell_type": "code",
   "execution_count": 261,
   "metadata": {
    "collapsed": false
   },
   "outputs": [
    {
     "data": {
      "text/plain": [
       "0.4780612202858293"
      ]
     },
     "execution_count": 261,
     "metadata": {},
     "output_type": "execute_result"
    }
   ],
   "source": [
    "emp_REB_coeff = pearson_r(Total2018['2018-19'],Total2018['TRB'])\n",
    "emp_REB_coeff"
   ]
  },
  {
   "cell_type": "markdown",
   "metadata": {},
   "source": [
    "\n",
    "H_0: $\\rho$ = 0.478\n",
    "\n",
    "H_a: $\\rho$ $\\neq$ 0.478\n",
    "\n",
    "Where $\\rho$ is the Pearson Correlation Coefficient."
   ]
  },
  {
   "cell_type": "code",
   "execution_count": 319,
   "metadata": {
    "collapsed": false
   },
   "outputs": [
    {
     "data": {
      "text/plain": [
       "0.0328"
      ]
     },
     "execution_count": 319,
     "metadata": {},
     "output_type": "execute_result"
    }
   ],
   "source": [
    "import random\n",
    "perm_data = np.empty(10000)\n",
    "for i in range(10000):\n",
    "    shuffled = Total2018[['2018-19','TRB']].sample(frac = 1)\n",
    "    unshuffled = shuffled[:int(round(len(shuffled)*0.9))]\n",
    "    shuffled2 = shuffled[int(round(len(shuffled)*0.9)):]\n",
    "    \n",
    "    permuted = random.sample(shuffled2['2018-19'], len(shuffled2['2018-19']))\n",
    "    permuted_frame = pd.DataFrame({'2018-19':permuted, 'TRB': list(shuffled2['TRB'].values)})\n",
    "    \n",
    "    total_shuff= unshuffled.append(permuted_frame)\n",
    "    perm_data[i] = (pearson_r(total_shuff['2018-19'], total_shuff['TRB']))\n",
    "p = np.sum(perm_data >= emp_REB_coeff)/ float(len(perm_data))\n",
    "p * 2"
   ]
  },
  {
   "cell_type": "markdown",
   "metadata": {},
   "source": [
    "Since 0.0328 < 0.05, then I cannot conclude that $\\rho$ $\\neq$ 0.478"
   ]
  },
  {
   "cell_type": "code",
   "execution_count": 320,
   "metadata": {
    "collapsed": false
   },
   "outputs": [
    {
     "data": {
      "text/plain": [
       "MannwhitneyuResult(statistic=142129.0, pvalue=3.800147985133674e-125)"
      ]
     },
     "execution_count": 320,
     "metadata": {},
     "output_type": "execute_result"
    }
   ],
   "source": [
    "MannWhitney_REB = stats.stats.mannwhitneyu(Total2018['2018-19'], Total2018['TRB'], alternative = 'greater')\n",
    "MannWhitney_REB"
   ]
  },
  {
   "cell_type": "markdown",
   "metadata": {},
   "source": [
    "Running the test on Minutes per Game and Salary"
   ]
  },
  {
   "cell_type": "code",
   "execution_count": 373,
   "metadata": {
    "collapsed": false
   },
   "outputs": [
    {
     "data": {
      "text/plain": [
       "0.5835456716338305"
      ]
     },
     "execution_count": 373,
     "metadata": {},
     "output_type": "execute_result"
    }
   ],
   "source": [
    "emp_MG_coeff = pearson_r(Total2018['2018-19'],Total2018['M/G'])\n",
    "emp_MG_coeff"
   ]
  },
  {
   "cell_type": "markdown",
   "metadata": {},
   "source": [
    "\n",
    "H_0: $\\rho$ = 0.583\n",
    "\n",
    "H_a: $\\rho$ $\\neq$ 0.583\n",
    "\n",
    "Where $\\rho$ is the Pearson Correlation Coefficient."
   ]
  },
  {
   "cell_type": "code",
   "execution_count": 374,
   "metadata": {
    "collapsed": false
   },
   "outputs": [
    {
     "data": {
      "text/plain": [
       "0.006"
      ]
     },
     "execution_count": 374,
     "metadata": {},
     "output_type": "execute_result"
    }
   ],
   "source": [
    "import random\n",
    "perm_data = np.empty(10000)\n",
    "for i in range(10000):\n",
    "    shuffled = Total2018[['2018-19','M/G']].sample(frac = 1)\n",
    "    unshuffled = shuffled[:int(round(len(shuffled)*0.9))]\n",
    "    shuffled2 = shuffled[int(round(len(shuffled)*0.9)):]\n",
    "    \n",
    "    permuted = random.sample(shuffled2['2018-19'], len(shuffled2['2018-19']))\n",
    "    permuted_frame = pd.DataFrame({'2018-19':permuted, 'M/G': list(shuffled2['M/G'].values)})\n",
    "    \n",
    "    total_shuff= unshuffled.append(permuted_frame)\n",
    "    perm_data[i] = (pearson_r(total_shuff['2018-19'], total_shuff['M/G']))\n",
    "p = np.sum(perm_data >= emp_MG_coeff)/ float(len(perm_data))\n",
    "p * 2"
   ]
  },
  {
   "cell_type": "markdown",
   "metadata": {},
   "source": [
    "Since 0.006 < 0.05, then I cannot conclude that $\\rho$ $\\neq$ 0.583"
   ]
  },
  {
   "cell_type": "code",
   "execution_count": 375,
   "metadata": {
    "collapsed": false
   },
   "outputs": [
    {
     "data": {
      "text/plain": [
       "MannwhitneyuResult(statistic=142129.0, pvalue=3.842716033511119e-125)"
      ]
     },
     "execution_count": 375,
     "metadata": {},
     "output_type": "execute_result"
    }
   ],
   "source": [
    "MannWhitney_MG = stats.stats.mannwhitneyu(Total2018['2018-19'], Total2018['M/G'], alternative = 'greater')\n",
    "MannWhitney_MG"
   ]
  },
  {
   "cell_type": "markdown",
   "metadata": {},
   "source": [
    "## Comparing the means between two different groups. Either teams or positions. "
   ]
  },
  {
   "cell_type": "markdown",
   "metadata": {},
   "source": [
    "For each of these different pairings, I will do two different tests. One with a bootstrapping technique, and one using a module to obtain a t-score and p-value."
   ]
  },
  {
   "cell_type": "code",
   "execution_count": 265,
   "metadata": {
    "collapsed": false
   },
   "outputs": [
    {
     "data": {
      "text/html": [
       "<div>\n",
       "<table border=\"1\" class=\"dataframe\">\n",
       "  <thead>\n",
       "    <tr style=\"text-align: right;\">\n",
       "      <th></th>\n",
       "      <th>2018-19</th>\n",
       "    </tr>\n",
       "    <tr>\n",
       "      <th>Tm</th>\n",
       "      <th></th>\n",
       "    </tr>\n",
       "  </thead>\n",
       "  <tbody>\n",
       "    <tr>\n",
       "      <th>GSW</th>\n",
       "      <td>12746893</td>\n",
       "    </tr>\n",
       "    <tr>\n",
       "      <th>OKC</th>\n",
       "      <td>12323171</td>\n",
       "    </tr>\n",
       "    <tr>\n",
       "      <th>WAS</th>\n",
       "      <td>11404212</td>\n",
       "    </tr>\n",
       "    <tr>\n",
       "      <th>TOR</th>\n",
       "      <td>11134140</td>\n",
       "    </tr>\n",
       "    <tr>\n",
       "      <th>MIA</th>\n",
       "      <td>10430029</td>\n",
       "    </tr>\n",
       "  </tbody>\n",
       "</table>\n",
       "</div>"
      ],
      "text/plain": [
       "      2018-19\n",
       "Tm           \n",
       "GSW  12746893\n",
       "OKC  12323171\n",
       "WAS  11404212\n",
       "TOR  11134140\n",
       "MIA  10430029"
      ]
     },
     "execution_count": 265,
     "metadata": {},
     "output_type": "execute_result"
    }
   ],
   "source": [
    "by_team = Total2018[['2018-19','Tm']].groupby('Tm').mean().sort_values(by = '2018-19', ascending = False)\n",
    "by_team.head(5)"
   ]
  },
  {
   "cell_type": "markdown",
   "metadata": {},
   "source": [
    "The top 5 highest average salaries in the NBA belong to GSW, OKC, WAS, TOR, MIA. "
   ]
  },
  {
   "cell_type": "code",
   "execution_count": 266,
   "metadata": {
    "collapsed": false
   },
   "outputs": [
    {
     "data": {
      "text/plain": [
       "423722"
      ]
     },
     "execution_count": 266,
     "metadata": {},
     "output_type": "execute_result"
    }
   ],
   "source": [
    "emp_mean_diff = by_team['2018-19'].loc['GSW'] - by_team['2018-19'].loc['OKC']\n",
    "emp_mean_diff"
   ]
  },
  {
   "cell_type": "markdown",
   "metadata": {},
   "source": [
    "By subtracting the mean difference between the top two teams, I have found that they only differ by abotu \\$423,722"
   ]
  },
  {
   "cell_type": "markdown",
   "metadata": {},
   "source": [
    "#### Obtaining a p-value for difference in means to see if this mean difference is truly significant. \n",
    "\n",
    "H_0: $\\mu_{GSW}$ = $\\mu_{OKC}$\n",
    "\n",
    "H_a: $\\mu_{GSW}$ > $\\mu_{OKC}$\n",
    "\n",
    "with a $\\alpha$ = 0.05 level"
   ]
  },
  {
   "cell_type": "code",
   "execution_count": 267,
   "metadata": {
    "collapsed": true
   },
   "outputs": [],
   "source": [
    "GSW_sal = Total2018['2018-19'].loc[Total2018['Tm'] =='GSW']\n",
    "OKC_sal = Total2018['2018-19'].loc[Total2018['Tm'] == 'OKC']\n"
   ]
  },
  {
   "cell_type": "code",
   "execution_count": 268,
   "metadata": {
    "collapsed": true
   },
   "outputs": [],
   "source": [
    "def permutations(data_1, data_2):\n",
    "    data = np.concatenate((data_1, data_2))\n",
    "    perms = np.random.choice(data, len(data))\n",
    "    perm_team1 = perms[:len(data_1)]\n",
    "    perm_team2 = perms[len(data_1):]\n",
    "    return perm_team1, perm_team2"
   ]
  },
  {
   "cell_type": "code",
   "execution_count": 269,
   "metadata": {
    "collapsed": true
   },
   "outputs": [],
   "source": [
    "def bootstrap(data_1, data_2, size):\n",
    "    boots = np.empty(size)\n",
    "    for i in range(size):\n",
    "        perm_team1, perm_team2 = permutations(data_1, data_2)\n",
    "        boots[i] = np.mean(perm_team1) - np.mean(perm_team2)\n",
    "    return boots"
   ]
  },
  {
   "cell_type": "code",
   "execution_count": 270,
   "metadata": {
    "collapsed": false
   },
   "outputs": [
    {
     "data": {
      "text/plain": [
       "0.466"
      ]
     },
     "execution_count": 270,
     "metadata": {},
     "output_type": "execute_result"
    }
   ],
   "source": [
    "theo_mean_diffs = bootstrap(GSW_sal, OKC_sal, 10000)\n",
    "p = np.sum(theo_mean_diffs >= emp_mean_diff) / float(len(theo_mean_diffs))\n",
    "p"
   ]
  },
  {
   "cell_type": "markdown",
   "metadata": {},
   "source": [
    "At a p-value of 0.4593, we are unable to reject the null hypothesis that the Golden State Warriors players have the same average salary as the players on the Oklahoma City Thunder. "
   ]
  },
  {
   "cell_type": "markdown",
   "metadata": {},
   "source": [
    "#### Using the ttest from scipy.stats to preform the same test"
   ]
  },
  {
   "cell_type": "code",
   "execution_count": 271,
   "metadata": {
    "collapsed": false
   },
   "outputs": [
    {
     "data": {
      "text/plain": [
       "0.46719365408651387"
      ]
     },
     "execution_count": 271,
     "metadata": {},
     "output_type": "execute_result"
    }
   ],
   "source": [
    "t_GSW_OKC = stats.stats.ttest_ind(Total2018['2018-19'].loc[Total2018['Tm']=='GSW'], Total2018['2018-19'].loc[Total2018['Tm'] == 'OKC'])\n",
    "t_GSW_OKC.pvalue / 2"
   ]
  },
  {
   "cell_type": "markdown",
   "metadata": {},
   "source": [
    "As this returns a 2 sided p-value, I divided it by 2 to get the 1-sided. It returns approximately the same thing. "
   ]
  },
  {
   "cell_type": "markdown",
   "metadata": {},
   "source": [
    "Now, going to check to see if the difference between the highest average salary team and the lowest salary team is significant. I will be using the same hypotheses."
   ]
  },
  {
   "cell_type": "code",
   "execution_count": 272,
   "metadata": {
    "collapsed": false
   },
   "outputs": [
    {
     "data": {
      "text/html": [
       "<div>\n",
       "<table border=\"1\" class=\"dataframe\">\n",
       "  <thead>\n",
       "    <tr style=\"text-align: right;\">\n",
       "      <th></th>\n",
       "      <th>2018-19</th>\n",
       "    </tr>\n",
       "    <tr>\n",
       "      <th>Tm</th>\n",
       "      <th></th>\n",
       "    </tr>\n",
       "  </thead>\n",
       "  <tbody>\n",
       "    <tr>\n",
       "      <th>SAC</th>\n",
       "      <td>5316770</td>\n",
       "    </tr>\n",
       "  </tbody>\n",
       "</table>\n",
       "</div>"
      ],
      "text/plain": [
       "     2018-19\n",
       "Tm          \n",
       "SAC  5316770"
      ]
     },
     "execution_count": 272,
     "metadata": {},
     "output_type": "execute_result"
    }
   ],
   "source": [
    "by_team.tail(1)"
   ]
  },
  {
   "cell_type": "code",
   "execution_count": 273,
   "metadata": {
    "collapsed": false
   },
   "outputs": [
    {
     "data": {
      "text/plain": [
       "7430123"
      ]
     },
     "execution_count": 273,
     "metadata": {},
     "output_type": "execute_result"
    }
   ],
   "source": [
    "emp_mean_diff2 = by_team['2018-19'].loc['GSW'] - by_team['2018-19'].loc['SAC']\n",
    "emp_mean_diff2"
   ]
  },
  {
   "cell_type": "markdown",
   "metadata": {},
   "source": [
    "This time, the mean difference is over \\$7,000,000"
   ]
  },
  {
   "cell_type": "markdown",
   "metadata": {},
   "source": [
    "#### Obtaining a p-value for difference in means to see if this mean difference is truly significant. \n",
    "\n",
    "H_0: $\\mu_{GSW}$ = $\\mu_{SAC}$\n",
    "\n",
    "H_a: $\\mu_{GSW}$ > $\\mu_{SAC}$\n",
    "\n",
    "with a $\\alpha$ = 0.05 level"
   ]
  },
  {
   "cell_type": "code",
   "execution_count": 274,
   "metadata": {
    "collapsed": true
   },
   "outputs": [],
   "source": [
    "SAC_sal = Total2018['2018-19'].loc[Total2018['Tm'] == 'SAC']"
   ]
  },
  {
   "cell_type": "code",
   "execution_count": 275,
   "metadata": {
    "collapsed": false,
    "scrolled": true
   },
   "outputs": [
    {
     "data": {
      "text/plain": [
       "0.0265"
      ]
     },
     "execution_count": 275,
     "metadata": {},
     "output_type": "execute_result"
    }
   ],
   "source": [
    "theo_mean_diffs2 = bootstrap(GSW_sal, SAC_sal, 10000)\n",
    "p = np.sum(theo_mean_diffs2 >= emp_mean_diff2) / float(len(theo_mean_diffs2))\n",
    "p"
   ]
  },
  {
   "cell_type": "markdown",
   "metadata": {},
   "source": [
    "Since 0.025 < 0.05, we can confidently reject the null hypothesis that the Warriors have the same average salary as the Kings. "
   ]
  },
  {
   "cell_type": "code",
   "execution_count": 276,
   "metadata": {
    "collapsed": false
   },
   "outputs": [
    {
     "data": {
      "text/plain": [
       "0.025815037883294954"
      ]
     },
     "execution_count": 276,
     "metadata": {},
     "output_type": "execute_result"
    }
   ],
   "source": [
    "t_GSW_SAC = stats.stats.ttest_ind(Total2018['2018-19'].loc[Total2018['Tm']=='GSW'], Total2018['2018-19'].loc[Total2018['Tm'] == 'SAC'])\n",
    "t_GSW_SAC.pvalue / 2"
   ]
  },
  {
   "cell_type": "markdown",
   "metadata": {},
   "source": [
    "The result here is the same. "
   ]
  },
  {
   "cell_type": "markdown",
   "metadata": {},
   "source": [
    "### Checking to see if the mean of the highest paid team is sgnificantly different than the rest of the NBA"
   ]
  },
  {
   "cell_type": "markdown",
   "metadata": {},
   "source": [
    "H_0: $\\mu_{GSW}$ = $\\mu_{NBA}$\n",
    "\n",
    "H_a: $\\mu_{GSW}$ $\\neq$ $\\mu_{NBA}$"
   ]
  },
  {
   "cell_type": "code",
   "execution_count": 282,
   "metadata": {
    "collapsed": false,
    "scrolled": true
   },
   "outputs": [
    {
     "data": {
      "text/plain": [
       "0.1316"
      ]
     },
     "execution_count": 282,
     "metadata": {},
     "output_type": "execute_result"
    }
   ],
   "source": [
    "emp_mean_diff3 = by_team['2018-19'].loc['GSW'] - np.mean(Total2018['2018-19'].loc[Total2018['Tm'] != 'GSW'])\n",
    "theo_mean_diffs3 = bootstrap(GSW_sal, Total2018['2018-19'], 10000)\n",
    "p = np.sum(theo_mean_diffs3 >= emp_mean_diff3) / float(len(theo_mean_diffs3))\n",
    "p*2\n"
   ]
  },
  {
   "cell_type": "markdown",
   "metadata": {},
   "source": [
    "Since 0.1394 > 0.05, then we cannot conclude at an $\\alpha$ = 0.05 level that there is a sgnificant difference between the Warriors and the rest of the NBA."
   ]
  },
  {
   "cell_type": "code",
   "execution_count": 283,
   "metadata": {
    "collapsed": false,
    "scrolled": true
   },
   "outputs": [
    {
     "data": {
      "text/plain": [
       "Ttest_indResult(statistic=1.6038617074009456, pvalue=0.1095863948108629)"
      ]
     },
     "execution_count": 283,
     "metadata": {},
     "output_type": "execute_result"
    }
   ],
   "source": [
    "t = stats.stats.ttest_ind(Total2018['2018-19'].loc[Total2018['Tm']=='GSW'], Total2018['2018-19'].loc[Total2018['Tm'] != 'GSW'])\n",
    "t"
   ]
  },
  {
   "cell_type": "markdown",
   "metadata": {},
   "source": [
    "Using the t-test, I can come to the same conclusion."
   ]
  },
  {
   "cell_type": "markdown",
   "metadata": {},
   "source": [
    "### Performing the same test, except across two different positions, instead of teams. "
   ]
  },
  {
   "cell_type": "code",
   "execution_count": 277,
   "metadata": {
    "collapsed": false
   },
   "outputs": [
    {
     "data": {
      "text/html": [
       "<div>\n",
       "<table border=\"1\" class=\"dataframe\">\n",
       "  <thead>\n",
       "    <tr style=\"text-align: right;\">\n",
       "      <th></th>\n",
       "      <th>2018-19</th>\n",
       "    </tr>\n",
       "    <tr>\n",
       "      <th>Pos</th>\n",
       "      <th></th>\n",
       "    </tr>\n",
       "  </thead>\n",
       "  <tbody>\n",
       "    <tr>\n",
       "      <th>C</th>\n",
       "      <td>9015264</td>\n",
       "    </tr>\n",
       "    <tr>\n",
       "      <th>PF</th>\n",
       "      <td>9003547</td>\n",
       "    </tr>\n",
       "    <tr>\n",
       "      <th>SF</th>\n",
       "      <td>9000546</td>\n",
       "    </tr>\n",
       "    <tr>\n",
       "      <th>PG</th>\n",
       "      <td>8805145</td>\n",
       "    </tr>\n",
       "    <tr>\n",
       "      <th>SG</th>\n",
       "      <td>8436526</td>\n",
       "    </tr>\n",
       "    <tr>\n",
       "      <th>SF-SG</th>\n",
       "      <td>1238616</td>\n",
       "    </tr>\n",
       "  </tbody>\n",
       "</table>\n",
       "</div>"
      ],
      "text/plain": [
       "       2018-19\n",
       "Pos           \n",
       "C      9015264\n",
       "PF     9003547\n",
       "SF     9000546\n",
       "PG     8805145\n",
       "SG     8436526\n",
       "SF-SG  1238616"
      ]
     },
     "execution_count": 277,
     "metadata": {},
     "output_type": "execute_result"
    }
   ],
   "source": [
    "by_pos = Total2018[['2018-19','Pos']].groupby('Pos').mean().sort_values(by = '2018-19', ascending = False)\n",
    "by_pos"
   ]
  },
  {
   "cell_type": "markdown",
   "metadata": {},
   "source": [
    "H_0: $\\mu_{C}$ = $\\mu_{SG}$\n",
    "\n",
    "H_a: $\\mu_{C}$ > $\\mu_{SG}$"
   ]
  },
  {
   "cell_type": "code",
   "execution_count": 278,
   "metadata": {
    "collapsed": false
   },
   "outputs": [
    {
     "data": {
      "text/plain": [
       "578738"
      ]
     },
     "execution_count": 278,
     "metadata": {},
     "output_type": "execute_result"
    }
   ],
   "source": [
    "emp_mean_tm = by_pos['2018-19'].loc['C'] - by_pos['2018-19'].loc['SG']\n",
    "emp_mean_tm"
   ]
  },
  {
   "cell_type": "code",
   "execution_count": 279,
   "metadata": {
    "collapsed": true
   },
   "outputs": [],
   "source": [
    "SG_sal = Total2018['2018-19'].loc[Total2018['Pos'] == 'SG']\n",
    "C_sal = Total2018['2018-19'].loc[Total2018['Pos'] == 'C']\n"
   ]
  },
  {
   "cell_type": "code",
   "execution_count": 280,
   "metadata": {
    "collapsed": false
   },
   "outputs": [
    {
     "data": {
      "text/plain": [
       "0.3153"
      ]
     },
     "execution_count": 280,
     "metadata": {},
     "output_type": "execute_result"
    }
   ],
   "source": [
    "theo_mean_tm = bootstrap(C_sal, SG_sal, 10000)\n",
    "p = np.sum(theo_mean_tm >= emp_mean_tm) / float(len(theo_mean_tm))\n",
    "p"
   ]
  },
  {
   "cell_type": "markdown",
   "metadata": {},
   "source": [
    "Since 0.309 > 0.05, then I cannot conclude that there is any difference between the salaries of two different positions in the NBA."
   ]
  },
  {
   "cell_type": "code",
   "execution_count": 281,
   "metadata": {
    "collapsed": false
   },
   "outputs": [
    {
     "data": {
      "text/plain": [
       "0.31189332447762497"
      ]
     },
     "execution_count": 281,
     "metadata": {},
     "output_type": "execute_result"
    }
   ],
   "source": [
    "t_C_SG = stats.stats.ttest_ind(Total2018['2018-19'].loc[Total2018['Pos']=='C'], Total2018['2018-19'].loc[Total2018['Pos'] == 'SG'])\n",
    "t_C_SG.pvalue / 2"
   ]
  },
  {
   "cell_type": "markdown",
   "metadata": {},
   "source": [
    "This p-value is still significantly greater than 0.05. "
   ]
  },
  {
   "cell_type": "markdown",
   "metadata": {},
   "source": [
    "### Performing Ordinary Least Squares Regression with features that I decided looked to be strongly correlated with salary from my initial EDA"
   ]
  },
  {
   "cell_type": "code",
   "execution_count": 285,
   "metadata": {
    "collapsed": true
   },
   "outputs": [],
   "source": [
    "Total2018['3P%'] = Total2018['3P%'].fillna(0)\n",
    "Total2018['FT%'] = Total2018['FT%'].fillna(0)"
   ]
  },
  {
   "cell_type": "code",
   "execution_count": 286,
   "metadata": {
    "collapsed": false
   },
   "outputs": [
    {
     "name": "stderr",
     "output_type": "stream",
     "text": [
      "C:\\Users\\miste\\Miniconda3\\envs\\tutorial\\lib\\site-packages\\matplotlib\\__init__.py:892: UserWarning: axes.color_cycle is deprecated and replaced with axes.prop_cycle; please use the latter.\n",
      "  warnings.warn(self.msg_depr % (key, alt_key))\n"
     ]
    },
    {
     "data": {
      "image/png": "[encoded data removed]",
      "text/plain": [
       "<matplotlib.figure.Figure at 0x1c144fd0>"
      ]
     },
     "metadata": {},
     "output_type": "display_data"
    }
   ],
   "source": [
    "_ = sns.pairplot(Total2018[['G','WS','M/G','PS/G']])"
   ]
  },
  {
   "cell_type": "markdown",
   "metadata": {
    "collapsed": true
   },
   "source": [
    "From the 4 big stats that I hypothesized had the biggest effect on salary, I can see that there are quite a few that are correlated. Points per game and minutes per game are strongly correlated, Win Shares and Points Per Game, and minutes per game and Win Shares are correlated (which is because of the correlation between points and minutes)."
   ]
  },
  {
   "cell_type": "code",
   "execution_count": 287,
   "metadata": {
    "collapsed": false,
    "scrolled": true
   },
   "outputs": [
    {
     "data": {
      "image/png": "[encoded data removed]",
      "text/plain": [
       "<matplotlib.figure.Figure at 0x1bcfc438>"
      ]
     },
     "metadata": {},
     "output_type": "display_data"
    }
   ],
   "source": [
    "from sklearn.decomposition import PCA\n",
    "pca = PCA()\n",
    "model = pca.fit(Total2018[['G','WS','PS/G','M/G','TRB']])\n",
    "_ = plt.bar(range(len(model.explained_variance_)), model.explained_variance_ratio_)\n"
   ]
  },
  {
   "cell_type": "markdown",
   "metadata": {},
   "source": [
    "From Principal Component Analysis, I can see that there is only 1 Principal Component. This makes sense, because all of the statistics are highly, or at least partially, correlated with one another. This is just from the nature of the game of basketball. If you play a lot of minutes, you will most likely score more, get more rebounds, and provide more wins for the team. And if you are doing all of this well, then you will play more games as well. This can also be seen in the plots above."
   ]
  },
  {
   "cell_type": "markdown",
   "metadata": {},
   "source": [
    "For this reason, I will only run the OLS with Points Per Game and Games played, as these two are the only ones that do not have a strong correlation with eachother. "
   ]
  },
  {
   "cell_type": "code",
   "execution_count": 352,
   "metadata": {
    "collapsed": false
   },
   "outputs": [],
   "source": [
    "import statsmodels.api as sm\n",
    "from sklearn.linear_model import LinearRegression\n",
    "from sklearn.preprocessing import scale\n",
    "\n",
    "X = (Total2018[['PS/G','G']])\n",
    "y = Total2018['2018-19']\n",
    "X2 = sm.add_constant(X)\n"
   ]
  },
  {
   "cell_type": "code",
   "execution_count": 353,
   "metadata": {
    "collapsed": false,
    "scrolled": true
   },
   "outputs": [
    {
     "name": "stdout",
     "output_type": "stream",
     "text": [
      "                            OLS Regression Results                            \n",
      "==============================================================================\n",
      "Dep. Variable:                2018-19   R-squared:                       0.413\n",
      "Model:                            OLS   Adj. R-squared:                  0.410\n",
      "Method:                 Least Squares   F-statistic:                     131.6\n",
      "Date:                Wed, 29 Aug 2018   Prob (F-statistic):           5.42e-44\n",
      "Time:                        09:52:00   Log-Likelihood:                -6438.5\n",
      "No. Observations:                 377   AIC:                         1.288e+04\n",
      "Df Residuals:                     374   BIC:                         1.289e+04\n",
      "Df Model:                           2                                         \n",
      "Covariance Type:            nonrobust                                         \n",
      "==============================================================================\n",
      "                 coef    std err          t      P>|t|      [0.025      0.975]\n",
      "------------------------------------------------------------------------------\n",
      "const       1.553e+06   9.21e+05      1.686      0.093   -2.58e+05    3.36e+06\n",
      "PS/G         9.34e+05   6.03e+04     15.499      0.000    8.15e+05    1.05e+06\n",
      "G          -3.421e+04   1.59e+04     -2.159      0.032   -6.54e+04   -3046.921\n",
      "==============================================================================\n",
      "Omnibus:                       33.817   Durbin-Watson:                   0.772\n",
      "Prob(Omnibus):                  0.000   Jarque-Bera (JB):               47.055\n",
      "Skew:                           0.643   Prob(JB):                     6.06e-11\n",
      "Kurtosis:                       4.158   Cond. No.                         178.\n",
      "==============================================================================\n",
      "\n",
      "Warnings:\n",
      "[1] Standard Errors assume that the covariance matrix of the errors is correctly specified.\n"
     ]
    }
   ],
   "source": [
    "est = sm.OLS(y, X2)\n",
    "est2 = est.fit()\n",
    "print(est2.summary())\n"
   ]
  },
  {
   "cell_type": "markdown",
   "metadata": {},
   "source": [
    "Running the OLS regression again, except slowly removing variables until all p-values are low "
   ]
  },
  {
   "cell_type": "code",
   "execution_count": 371,
   "metadata": {
    "collapsed": false
   },
   "outputs": [],
   "source": [
    "import statsmodels.api as sm\n",
    "from sklearn.linear_model import LinearRegression\n",
    "from sklearn.preprocessing import scale\n",
    "\n",
    "X = Total2018.drop(['2018-19','TOV','TRB','PER','M/G','Rk','Name','GS','TOV%','Pos','Tm','3P','ORB','3P%','Age','AST/TOV','dollar_per_p/g','FT%','BLK','OWS','DWS','MP','TRB%','eFG%','STL','FG','FG%'], axis = 1)\n",
    "y = Total2018['2018-19']\n",
    "X2 = sm.add_constant(X)\n"
   ]
  },
  {
   "cell_type": "code",
   "execution_count": 372,
   "metadata": {
    "collapsed": false,
    "scrolled": false
   },
   "outputs": [
    {
     "name": "stdout",
     "output_type": "stream",
     "text": [
      "                            OLS Regression Results                            \n",
      "==============================================================================\n",
      "Dep. Variable:                2018-19   R-squared:                       0.504\n",
      "Model:                            OLS   Adj. R-squared:                  0.497\n",
      "Method:                 Least Squares   F-statistic:                     75.38\n",
      "Date:                Wed, 29 Aug 2018   Prob (F-statistic):           2.30e-54\n",
      "Time:                        09:54:33   Log-Likelihood:                -6406.8\n",
      "No. Observations:                 377   AIC:                         1.283e+04\n",
      "Df Residuals:                     371   BIC:                         1.285e+04\n",
      "Df Model:                           5                                         \n",
      "Covariance Type:            nonrobust                                         \n",
      "==============================================================================\n",
      "                 coef    std err          t      P>|t|      [0.025      0.975]\n",
      "------------------------------------------------------------------------------\n",
      "const       6.782e+06   1.14e+06      5.970      0.000    4.55e+06    9.02e+06\n",
      "G          -9.547e+04   1.66e+04     -5.748      0.000   -1.28e+05   -6.28e+04\n",
      "AST         2.481e+06   6.09e+05      4.077      0.000    1.28e+06    3.68e+06\n",
      "PS/G         4.58e+05   8.85e+04      5.173      0.000    2.84e+05    6.32e+05\n",
      "WS          1.112e+06   1.74e+05      6.398      0.000    7.71e+05    1.45e+06\n",
      "AST%       -4.218e+05   1.07e+05     -3.958      0.000   -6.31e+05   -2.12e+05\n",
      "==============================================================================\n",
      "Omnibus:                       26.562   Durbin-Watson:                   0.970\n",
      "Prob(Omnibus):                  0.000   Jarque-Bera (JB):               35.113\n",
      "Skew:                           0.550   Prob(JB):                     2.37e-08\n",
      "Kurtosis:                       4.013   Cond. No.                         256.\n",
      "==============================================================================\n",
      "\n",
      "Warnings:\n",
      "[1] Standard Errors assume that the covariance matrix of the errors is correctly specified.\n"
     ]
    }
   ],
   "source": [
    "est = sm.OLS(y, X2)\n",
    "est2 = est.fit()\n",
    "print(est2.summary())\n"
   ]
  }
 ],
 "metadata": {
  "kernelspec": {
   "display_name": "Python 2",
   "language": "python",
   "name": "python2"
  },
  "language_info": {
   "codemirror_mode": {
    "name": "ipython",
    "version": 2
   },
   "file_extension": ".py",
   "mimetype": "text/x-python",
   "name": "python",
   "nbconvert_exporter": "python",
   "pygments_lexer": "ipython2",
   "version": "2.7.11"
  }
 },
 "nbformat": 4,
 "nbformat_minor": 1
}
