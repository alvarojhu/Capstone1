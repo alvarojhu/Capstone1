{
 "cells": [
  {
   "cell_type": "code",
   "execution_count": 1,
   "metadata": {
    "collapsed": false
   },
   "outputs": [
    {
     "name": "stderr",
     "output_type": "stream",
     "text": [
      "C:\\Users\\miste\\Miniconda3\\envs\\tutorial\\lib\\site-packages\\matplotlib\\__init__.py:872: UserWarning: axes.color_cycle is deprecated and replaced with axes.prop_cycle; please use the latter.\n",
      "  warnings.warn(self.msg_depr % (key, alt_key))\n"
     ]
    }
   ],
   "source": [
    "%matplotlib inline\n",
    "\n",
    "\n",
    "import pandas as pd\n",
    "import scipy as stats\n",
    "import seaborn as sns\n",
    "import matplotlib.pyplot as plt\n",
    "import numpy as np"
   ]
  },
  {
   "cell_type": "code",
   "execution_count": 2,
   "metadata": {
    "collapsed": false
   },
   "outputs": [],
   "source": [
    "pd.set_option('display.max_rows', 500)\n",
    "pd.set_option('display.max_columns', 500)"
   ]
  },
  {
   "cell_type": "code",
   "execution_count": 3,
   "metadata": {
    "collapsed": false
   },
   "outputs": [],
   "source": [
    "#Importing the three dataframes CSV files\n",
    "stats2018 = pd.read_csv('Data/2017-2018stats.txt')\n",
    "salaries2019 = pd.read_csv('Data/2018-2019salaries.txt')\n",
    "stats2018advanced = pd.read_csv('Data/2017-2018advanced.txt')"
   ]
  },
  {
   "cell_type": "code",
   "execution_count": 4,
   "metadata": {
    "collapsed": false
   },
   "outputs": [
    {
     "data": {
      "text/plain": [
       "Index([u'Rk', u'Player', u'Pos', u'Age', u'Tm', u'G', u'GS', u'MP', u'FG',\n",
       "       u'FGA', u'FG%', u'3P', u'3PA', u'3P%', u'2P', u'2PA', u'2P%', u'eFG%',\n",
       "       u'FT', u'FTA', u'FT%', u'ORB', u'DRB', u'TRB', u'AST', u'STL', u'BLK',\n",
       "       u'TOV', u'PF', u'PS/G'],\n",
       "      dtype='object')"
      ]
     },
     "execution_count": 4,
     "metadata": {},
     "output_type": "execute_result"
    }
   ],
   "source": [
    "stats2018.columns"
   ]
  },
  {
   "cell_type": "code",
   "execution_count": 109,
   "metadata": {
    "collapsed": false
   },
   "outputs": [
    {
     "data": {
      "text/plain": [
       "59"
      ]
     },
     "execution_count": 109,
     "metadata": {},
     "output_type": "execute_result"
    }
   ],
   "source": [
    "#Checking to see which players played for multiple teams \n",
    "multiple_teams = stats2018['Name'].loc[stats2018['Tm'] == 'TOT']\n",
    "multiple_teams.count()\n",
    "\n",
    "\n",
    "\n",
    "    \n",
    "\n"
   ]
  },
  {
   "cell_type": "code",
   "execution_count": 110,
   "metadata": {
    "collapsed": false
   },
   "outputs": [
    {
     "data": {
      "text/plain": [
       "183"
      ]
     },
     "execution_count": 110,
     "metadata": {},
     "output_type": "execute_result"
    }
   ],
   "source": [
    "#Counting up all of the times a person who has played for multiple teams shows up in the dataframe\n",
    "count_multiple = sum(stats2018['Name'].isin(multiple_teams))\n",
    "count_multiple"
   ]
  },
  {
   "cell_type": "code",
   "execution_count": 111,
   "metadata": {
    "collapsed": false
   },
   "outputs": [
    {
     "data": {
      "text/plain": [
       "124"
      ]
     },
     "execution_count": 111,
     "metadata": {},
     "output_type": "execute_result"
    }
   ],
   "source": [
    "#Subtracting away the amount of times the TOT shows up from the total\n",
    "count_multiple - len(multiple_teams)"
   ]
  },
  {
   "cell_type": "code",
   "execution_count": 112,
   "metadata": {
    "collapsed": false,
    "scrolled": true
   },
   "outputs": [
    {
     "name": "stdout",
     "output_type": "stream",
     "text": [
      "<class 'pandas.core.frame.DataFrame'>\n",
      "Int64Index: 540 entries, 0 to 663\n",
      "Data columns (total 17 columns):\n",
      "Name    540 non-null object\n",
      "Pos     540 non-null object\n",
      "Tm      540 non-null object\n",
      "G       540 non-null int64\n",
      "GS      540 non-null int64\n",
      "FG      540 non-null float64\n",
      "FG%     537 non-null float64\n",
      "3P      540 non-null float64\n",
      "3P%     491 non-null float64\n",
      "eFG%    537 non-null float64\n",
      "FT%     501 non-null float64\n",
      "ORB     540 non-null float64\n",
      "TRB     540 non-null float64\n",
      "AST     540 non-null float64\n",
      "STL     540 non-null float64\n",
      "BLK     540 non-null float64\n",
      "PS/G    540 non-null float64\n",
      "dtypes: float64(12), int64(2), object(3)\n",
      "memory usage: 75.9+ KB\n"
     ]
    }
   ],
   "source": [
    "#Dropping the duplicates caused by a player changing teams midway, keeping the TOT entry. The amount makes sense as 660 - 124 = 540\n",
    "stats2018u = stats2018.drop_duplicates(subset = ['Name'])\n",
    "stats2018u.info()"
   ]
  },
  {
   "cell_type": "code",
   "execution_count": 113,
   "metadata": {
    "collapsed": false
   },
   "outputs": [
    {
     "data": {
      "text/html": [
       "<div>\n",
       "<table border=\"1\" class=\"dataframe\">\n",
       "  <thead>\n",
       "    <tr style=\"text-align: right;\">\n",
       "      <th></th>\n",
       "      <th>﻿Rk</th>\n",
       "      <th>Tm</th>\n",
       "      <th>2018-19</th>\n",
       "      <th>Name</th>\n",
       "    </tr>\n",
       "  </thead>\n",
       "  <tbody>\n",
       "    <tr>\n",
       "      <th>0</th>\n",
       "      <td>1</td>\n",
       "      <td>GSW</td>\n",
       "      <td>$37457154</td>\n",
       "      <td>Stephen Curry</td>\n",
       "    </tr>\n",
       "    <tr>\n",
       "      <th>1</th>\n",
       "      <td>2</td>\n",
       "      <td>LAL</td>\n",
       "      <td>$35654150</td>\n",
       "      <td>LeBron James</td>\n",
       "    </tr>\n",
       "    <tr>\n",
       "      <th>2</th>\n",
       "      <td>3</td>\n",
       "      <td>LAL</td>\n",
       "      <td>$35654150</td>\n",
       "      <td>LeBron James</td>\n",
       "    </tr>\n",
       "    <tr>\n",
       "      <th>3</th>\n",
       "      <td>4</td>\n",
       "      <td>HOU</td>\n",
       "      <td>$35654150</td>\n",
       "      <td>Chris Paul</td>\n",
       "    </tr>\n",
       "    <tr>\n",
       "      <th>4</th>\n",
       "      <td>5</td>\n",
       "      <td>OKC</td>\n",
       "      <td>$35350000</td>\n",
       "      <td>Russell Westbrook</td>\n",
       "    </tr>\n",
       "  </tbody>\n",
       "</table>\n",
       "</div>"
      ],
      "text/plain": [
       "   ﻿Rk   Tm    2018-19               Name\n",
       "0    1  GSW  $37457154      Stephen Curry\n",
       "1    2  LAL  $35654150       LeBron James\n",
       "2    3  LAL  $35654150       LeBron James\n",
       "3    4  HOU  $35654150         Chris Paul\n",
       "4    5  OKC  $35350000  Russell Westbrook"
      ]
     },
     "execution_count": 113,
     "metadata": {},
     "output_type": "execute_result"
    }
   ],
   "source": [
    "#Splitting the weird Player column, and dropping all unneccessary columns\n",
    "salaries2019[['Name','string']] = salaries2019['Player'].str.split('\\\\', expand = True)\n",
    "dropped2019 = salaries2019.drop(['Player','2019-20','2020-21','2021-22','2022-23','2023-24', 'Signed Using','string','Guaranteed'],1)\n",
    "dropped2019.head()"
   ]
  },
  {
   "cell_type": "code",
   "execution_count": 114,
   "metadata": {
    "collapsed": false
   },
   "outputs": [
    {
     "data": {
      "text/plain": [
       "2"
      ]
     },
     "execution_count": 114,
     "metadata": {},
     "output_type": "execute_result"
    }
   ],
   "source": [
    "#Counting to see how many nonunique entries there are. There are 450 unique entries in the name column and 2 that show up twice\n",
    "len(dropped2019['Name']) - dropped2019['Name'].nunique()\n"
   ]
  },
  {
   "cell_type": "code",
   "execution_count": 115,
   "metadata": {
    "collapsed": false
   },
   "outputs": [
    {
     "name": "stdout",
     "output_type": "stream",
     "text": [
      "<class 'pandas.core.frame.DataFrame'>\n",
      "Int64Index: 452 entries, 0 to 451\n",
      "Data columns (total 4 columns):\n",
      "﻿Rk        452 non-null int64\n",
      "Tm         452 non-null object\n",
      "2018-19    452 non-null object\n",
      "Name       452 non-null object\n",
      "dtypes: int64(1), object(3)\n",
      "memory usage: 17.7+ KB\n"
     ]
    }
   ],
   "source": [
    "#Counting to see how many entries there are\n",
    "dropped2019.info()"
   ]
  },
  {
   "cell_type": "code",
   "execution_count": 116,
   "metadata": {
    "collapsed": false
   },
   "outputs": [
    {
     "name": "stdout",
     "output_type": "stream",
     "text": [
      "<class 'pandas.core.frame.DataFrame'>\n",
      "Int64Index: 450 entries, 0 to 451\n",
      "Data columns (total 4 columns):\n",
      "﻿Rk        450 non-null int64\n",
      "Tm         450 non-null object\n",
      "2018-19    450 non-null object\n",
      "Name       450 non-null object\n",
      "dtypes: int64(1), object(3)\n",
      "memory usage: 17.6+ KB\n"
     ]
    }
   ],
   "source": [
    "#dropping duplicates that show up in the salary column for some reason. should be -2. This is correct\n",
    "dropped2019u = dropped2019.drop_duplicates(subset = ['Name'])\n",
    "dropped2019u.info()"
   ]
  },
  {
   "cell_type": "code",
   "execution_count": 117,
   "metadata": {
    "collapsed": false
   },
   "outputs": [
    {
     "name": "stdout",
     "output_type": "stream",
     "text": [
      "<class 'pandas.core.frame.DataFrame'>\n",
      "Int64Index: 378 entries, 0 to 377\n",
      "Data columns (total 20 columns):\n",
      "﻿Rk        378 non-null int64\n",
      "Tm_x       378 non-null object\n",
      "2018-19    378 non-null object\n",
      "Name       378 non-null object\n",
      "Pos        378 non-null object\n",
      "Tm_y       378 non-null object\n",
      "G          378 non-null int64\n",
      "GS         378 non-null int64\n",
      "FG         378 non-null float64\n",
      "FG%        377 non-null float64\n",
      "3P         378 non-null float64\n",
      "3P%        352 non-null float64\n",
      "eFG%       377 non-null float64\n",
      "FT%        370 non-null float64\n",
      "ORB        378 non-null float64\n",
      "TRB        378 non-null float64\n",
      "AST        378 non-null float64\n",
      "STL        378 non-null float64\n",
      "BLK        378 non-null float64\n",
      "PS/G       378 non-null float64\n",
      "dtypes: float64(12), int64(3), object(5)\n",
      "memory usage: 62.0+ KB\n"
     ]
    }
   ],
   "source": [
    "#Concatenating the two data frames together. Checking, we now only have 289 entries, because some players that played \n",
    "#last year do not have salaries for next year, and some who have salaries for next year did not play last year\n",
    "data2018 = pd.merge(dropped2019u,stats2018u, how = 'inner', on = ['Name'])\n",
    "data2018.info()\n"
   ]
  },
  {
   "cell_type": "code",
   "execution_count": 118,
   "metadata": {
    "collapsed": false
   },
   "outputs": [
    {
     "data": {
      "text/html": [
       "<div>\n",
       "<table border=\"1\" class=\"dataframe\">\n",
       "  <thead>\n",
       "    <tr style=\"text-align: right;\">\n",
       "      <th></th>\n",
       "      <th>﻿Rk</th>\n",
       "      <th>Tm_x</th>\n",
       "      <th>2018-19</th>\n",
       "      <th>Name</th>\n",
       "      <th>Pos</th>\n",
       "      <th>Tm_y</th>\n",
       "      <th>G</th>\n",
       "      <th>GS</th>\n",
       "      <th>FG</th>\n",
       "      <th>FG%</th>\n",
       "      <th>3P</th>\n",
       "      <th>3P%</th>\n",
       "      <th>eFG%</th>\n",
       "      <th>FT%</th>\n",
       "      <th>ORB</th>\n",
       "      <th>TRB</th>\n",
       "      <th>AST</th>\n",
       "      <th>STL</th>\n",
       "      <th>BLK</th>\n",
       "      <th>PS/G</th>\n",
       "    </tr>\n",
       "  </thead>\n",
       "  <tbody>\n",
       "    <tr>\n",
       "      <th>0</th>\n",
       "      <td>1</td>\n",
       "      <td>GSW</td>\n",
       "      <td>37457154</td>\n",
       "      <td>Stephen Curry</td>\n",
       "      <td>PG</td>\n",
       "      <td>GSW</td>\n",
       "      <td>51</td>\n",
       "      <td>51</td>\n",
       "      <td>8.4</td>\n",
       "      <td>0.495</td>\n",
       "      <td>4.2</td>\n",
       "      <td>0.423</td>\n",
       "      <td>0.618</td>\n",
       "      <td>0.921</td>\n",
       "      <td>0.7</td>\n",
       "      <td>5.1</td>\n",
       "      <td>6.1</td>\n",
       "      <td>1.6</td>\n",
       "      <td>0.2</td>\n",
       "      <td>26.4</td>\n",
       "    </tr>\n",
       "    <tr>\n",
       "      <th>1</th>\n",
       "      <td>2</td>\n",
       "      <td>LAL</td>\n",
       "      <td>35654150</td>\n",
       "      <td>LeBron James</td>\n",
       "      <td>PF</td>\n",
       "      <td>CLE</td>\n",
       "      <td>82</td>\n",
       "      <td>82</td>\n",
       "      <td>10.5</td>\n",
       "      <td>0.542</td>\n",
       "      <td>1.8</td>\n",
       "      <td>0.367</td>\n",
       "      <td>0.590</td>\n",
       "      <td>0.731</td>\n",
       "      <td>1.2</td>\n",
       "      <td>8.6</td>\n",
       "      <td>9.1</td>\n",
       "      <td>1.4</td>\n",
       "      <td>0.9</td>\n",
       "      <td>27.5</td>\n",
       "    </tr>\n",
       "    <tr>\n",
       "      <th>2</th>\n",
       "      <td>4</td>\n",
       "      <td>HOU</td>\n",
       "      <td>35654150</td>\n",
       "      <td>Chris Paul</td>\n",
       "      <td>PG</td>\n",
       "      <td>HOU</td>\n",
       "      <td>58</td>\n",
       "      <td>58</td>\n",
       "      <td>6.3</td>\n",
       "      <td>0.460</td>\n",
       "      <td>2.5</td>\n",
       "      <td>0.380</td>\n",
       "      <td>0.550</td>\n",
       "      <td>0.919</td>\n",
       "      <td>0.6</td>\n",
       "      <td>5.4</td>\n",
       "      <td>7.9</td>\n",
       "      <td>1.7</td>\n",
       "      <td>0.2</td>\n",
       "      <td>18.6</td>\n",
       "    </tr>\n",
       "    <tr>\n",
       "      <th>3</th>\n",
       "      <td>5</td>\n",
       "      <td>OKC</td>\n",
       "      <td>35350000</td>\n",
       "      <td>Russell Westbrook</td>\n",
       "      <td>PG</td>\n",
       "      <td>OKC</td>\n",
       "      <td>80</td>\n",
       "      <td>80</td>\n",
       "      <td>9.5</td>\n",
       "      <td>0.449</td>\n",
       "      <td>1.2</td>\n",
       "      <td>0.298</td>\n",
       "      <td>0.477</td>\n",
       "      <td>0.737</td>\n",
       "      <td>1.9</td>\n",
       "      <td>10.1</td>\n",
       "      <td>10.3</td>\n",
       "      <td>1.8</td>\n",
       "      <td>0.3</td>\n",
       "      <td>25.4</td>\n",
       "    </tr>\n",
       "    <tr>\n",
       "      <th>4</th>\n",
       "      <td>6</td>\n",
       "      <td>DET</td>\n",
       "      <td>31873932</td>\n",
       "      <td>Blake Griffin</td>\n",
       "      <td>PF</td>\n",
       "      <td>TOT</td>\n",
       "      <td>58</td>\n",
       "      <td>58</td>\n",
       "      <td>7.5</td>\n",
       "      <td>0.438</td>\n",
       "      <td>1.9</td>\n",
       "      <td>0.345</td>\n",
       "      <td>0.493</td>\n",
       "      <td>0.785</td>\n",
       "      <td>1.3</td>\n",
       "      <td>7.4</td>\n",
       "      <td>5.8</td>\n",
       "      <td>0.7</td>\n",
       "      <td>0.3</td>\n",
       "      <td>21.4</td>\n",
       "    </tr>\n",
       "  </tbody>\n",
       "</table>\n",
       "</div>"
      ],
      "text/plain": [
       "   ﻿Rk Tm_x   2018-19               Name Pos Tm_y   G  GS    FG    FG%   3P  \\\n",
       "0    1  GSW  37457154      Stephen Curry  PG  GSW  51  51   8.4  0.495  4.2   \n",
       "1    2  LAL  35654150       LeBron James  PF  CLE  82  82  10.5  0.542  1.8   \n",
       "2    4  HOU  35654150         Chris Paul  PG  HOU  58  58   6.3  0.460  2.5   \n",
       "3    5  OKC  35350000  Russell Westbrook  PG  OKC  80  80   9.5  0.449  1.2   \n",
       "4    6  DET  31873932      Blake Griffin  PF  TOT  58  58   7.5  0.438  1.9   \n",
       "\n",
       "     3P%   eFG%    FT%  ORB   TRB   AST  STL  BLK  PS/G  \n",
       "0  0.423  0.618  0.921  0.7   5.1   6.1  1.6  0.2  26.4  \n",
       "1  0.367  0.590  0.731  1.2   8.6   9.1  1.4  0.9  27.5  \n",
       "2  0.380  0.550  0.919  0.6   5.4   7.9  1.7  0.2  18.6  \n",
       "3  0.298  0.477  0.737  1.9  10.1  10.3  1.8  0.3  25.4  \n",
       "4  0.345  0.493  0.785  1.3   7.4   5.8  0.7  0.3  21.4  "
      ]
     },
     "execution_count": 118,
     "metadata": {},
     "output_type": "execute_result"
    }
   ],
   "source": [
    "#Taking the dollar sign out of the salary and casting it as an integer, so that I can order by it. Checking to see \n",
    "data2018['2018-19'] = data2018['2018-19'].str.replace('$', '').astype(int)\n",
    "\n",
    "data2018.head()"
   ]
  },
  {
   "cell_type": "code",
   "execution_count": 119,
   "metadata": {
    "collapsed": false
   },
   "outputs": [],
   "source": [
    "#Sorting by highest salary first and checking how it looks. Tm_y is an outdated team column, so I dropped it to remain constant\n",
    "ordered2018 = data2018.sort_values(by = '2018-19', ascending = False)\n",
    "singleteam = ordered2018.drop(['Tm_y'],1)\n",
    "\n"
   ]
  },
  {
   "cell_type": "code",
   "execution_count": 120,
   "metadata": {
    "collapsed": false
   },
   "outputs": [
    {
     "data": {
      "text/html": [
       "<div>\n",
       "<table border=\"1\" class=\"dataframe\">\n",
       "  <thead>\n",
       "    <tr style=\"text-align: right;\">\n",
       "      <th></th>\n",
       "      <th>﻿Rk</th>\n",
       "      <th>Tm</th>\n",
       "      <th>2018-19</th>\n",
       "      <th>Name</th>\n",
       "      <th>Pos</th>\n",
       "      <th>G</th>\n",
       "      <th>GS</th>\n",
       "      <th>FG</th>\n",
       "      <th>FG%</th>\n",
       "      <th>3P</th>\n",
       "      <th>3P%</th>\n",
       "      <th>eFG%</th>\n",
       "      <th>FT%</th>\n",
       "      <th>ORB</th>\n",
       "      <th>TRB</th>\n",
       "      <th>AST</th>\n",
       "      <th>STL</th>\n",
       "      <th>BLK</th>\n",
       "      <th>PS/G</th>\n",
       "    </tr>\n",
       "  </thead>\n",
       "  <tbody>\n",
       "    <tr>\n",
       "      <th>0</th>\n",
       "      <td>1</td>\n",
       "      <td>GSW</td>\n",
       "      <td>37457154</td>\n",
       "      <td>Stephen Curry</td>\n",
       "      <td>PG</td>\n",
       "      <td>51</td>\n",
       "      <td>51</td>\n",
       "      <td>8.4</td>\n",
       "      <td>0.495</td>\n",
       "      <td>4.2</td>\n",
       "      <td>0.423</td>\n",
       "      <td>0.618</td>\n",
       "      <td>0.921</td>\n",
       "      <td>0.7</td>\n",
       "      <td>5.1</td>\n",
       "      <td>6.1</td>\n",
       "      <td>1.6</td>\n",
       "      <td>0.2</td>\n",
       "      <td>26.4</td>\n",
       "    </tr>\n",
       "    <tr>\n",
       "      <th>2</th>\n",
       "      <td>4</td>\n",
       "      <td>HOU</td>\n",
       "      <td>35654150</td>\n",
       "      <td>Chris Paul</td>\n",
       "      <td>PG</td>\n",
       "      <td>58</td>\n",
       "      <td>58</td>\n",
       "      <td>6.3</td>\n",
       "      <td>0.460</td>\n",
       "      <td>2.5</td>\n",
       "      <td>0.380</td>\n",
       "      <td>0.550</td>\n",
       "      <td>0.919</td>\n",
       "      <td>0.6</td>\n",
       "      <td>5.4</td>\n",
       "      <td>7.9</td>\n",
       "      <td>1.7</td>\n",
       "      <td>0.2</td>\n",
       "      <td>18.6</td>\n",
       "    </tr>\n",
       "    <tr>\n",
       "      <th>1</th>\n",
       "      <td>2</td>\n",
       "      <td>LAL</td>\n",
       "      <td>35654150</td>\n",
       "      <td>LeBron James</td>\n",
       "      <td>PF</td>\n",
       "      <td>82</td>\n",
       "      <td>82</td>\n",
       "      <td>10.5</td>\n",
       "      <td>0.542</td>\n",
       "      <td>1.8</td>\n",
       "      <td>0.367</td>\n",
       "      <td>0.590</td>\n",
       "      <td>0.731</td>\n",
       "      <td>1.2</td>\n",
       "      <td>8.6</td>\n",
       "      <td>9.1</td>\n",
       "      <td>1.4</td>\n",
       "      <td>0.9</td>\n",
       "      <td>27.5</td>\n",
       "    </tr>\n",
       "    <tr>\n",
       "      <th>3</th>\n",
       "      <td>5</td>\n",
       "      <td>OKC</td>\n",
       "      <td>35350000</td>\n",
       "      <td>Russell Westbrook</td>\n",
       "      <td>PG</td>\n",
       "      <td>80</td>\n",
       "      <td>80</td>\n",
       "      <td>9.5</td>\n",
       "      <td>0.449</td>\n",
       "      <td>1.2</td>\n",
       "      <td>0.298</td>\n",
       "      <td>0.477</td>\n",
       "      <td>0.737</td>\n",
       "      <td>1.9</td>\n",
       "      <td>10.1</td>\n",
       "      <td>10.3</td>\n",
       "      <td>1.8</td>\n",
       "      <td>0.3</td>\n",
       "      <td>25.4</td>\n",
       "    </tr>\n",
       "    <tr>\n",
       "      <th>4</th>\n",
       "      <td>6</td>\n",
       "      <td>DET</td>\n",
       "      <td>31873932</td>\n",
       "      <td>Blake Griffin</td>\n",
       "      <td>PF</td>\n",
       "      <td>58</td>\n",
       "      <td>58</td>\n",
       "      <td>7.5</td>\n",
       "      <td>0.438</td>\n",
       "      <td>1.9</td>\n",
       "      <td>0.345</td>\n",
       "      <td>0.493</td>\n",
       "      <td>0.785</td>\n",
       "      <td>1.3</td>\n",
       "      <td>7.4</td>\n",
       "      <td>5.8</td>\n",
       "      <td>0.7</td>\n",
       "      <td>0.3</td>\n",
       "      <td>21.4</td>\n",
       "    </tr>\n",
       "  </tbody>\n",
       "</table>\n",
       "</div>"
      ],
      "text/plain": [
       "   ﻿Rk   Tm   2018-19               Name Pos   G  GS    FG    FG%   3P    3P%  \\\n",
       "0    1  GSW  37457154      Stephen Curry  PG  51  51   8.4  0.495  4.2  0.423   \n",
       "2    4  HOU  35654150         Chris Paul  PG  58  58   6.3  0.460  2.5  0.380   \n",
       "1    2  LAL  35654150       LeBron James  PF  82  82  10.5  0.542  1.8  0.367   \n",
       "3    5  OKC  35350000  Russell Westbrook  PG  80  80   9.5  0.449  1.2  0.298   \n",
       "4    6  DET  31873932      Blake Griffin  PF  58  58   7.5  0.438  1.9  0.345   \n",
       "\n",
       "    eFG%    FT%  ORB   TRB   AST  STL  BLK  PS/G  \n",
       "0  0.618  0.921  0.7   5.1   6.1  1.6  0.2  26.4  \n",
       "2  0.550  0.919  0.6   5.4   7.9  1.7  0.2  18.6  \n",
       "1  0.590  0.731  1.2   8.6   9.1  1.4  0.9  27.5  \n",
       "3  0.477  0.737  1.9  10.1  10.3  1.8  0.3  25.4  \n",
       "4  0.493  0.785  1.3   7.4   5.8  0.7  0.3  21.4  "
      ]
     },
     "execution_count": 120,
     "metadata": {},
     "output_type": "execute_result"
    }
   ],
   "source": [
    "#renaming the Tm_x column to just be Tm for simplicity\n",
    "data2018 = singleteam.rename(columns = {'Tm_x':'Tm'})\n",
    "data2018.head()"
   ]
  },
  {
   "cell_type": "code",
   "execution_count": 121,
   "metadata": {
    "collapsed": false
   },
   "outputs": [
    {
     "data": {
      "text/plain": [
       "Index([u'Rk', u'Player', u'Pos', u'Age', u'Tm', u'G', u'MP', u'PER', u'TS%',\n",
       "       u'3PAr', u'FTr', u'ORB%', u'DRB%', u'TRB%', u'AST%', u'STL%', u'BLK%',\n",
       "       u'TOV%', u'USG%', u'Unnamed: 19', u'OWS', u'DWS', u'WS', u'WS/48',\n",
       "       u'Unnamed: 24', u'OBPM', u'DBPM', u'BPM', u'VORP'],\n",
       "      dtype='object')"
      ]
     },
     "execution_count": 121,
     "metadata": {},
     "output_type": "execute_result"
    }
   ],
   "source": [
    "#Checking to see the column names of the advanced stats data set\n",
    "stats2018advanced.columns"
   ]
  },
  {
   "cell_type": "code",
   "execution_count": 122,
   "metadata": {
    "collapsed": false
   },
   "outputs": [
    {
     "data": {
      "text/html": [
       "<div>\n",
       "<table border=\"1\" class=\"dataframe\">\n",
       "  <thead>\n",
       "    <tr style=\"text-align: right;\">\n",
       "      <th></th>\n",
       "      <th>Name</th>\n",
       "      <th>Age</th>\n",
       "      <th>WS</th>\n",
       "      <th>PER</th>\n",
       "      <th>MP</th>\n",
       "      <th>TRB%</th>\n",
       "      <th>AST%</th>\n",
       "      <th>TOV%</th>\n",
       "      <th>OWS</th>\n",
       "      <th>DWS</th>\n",
       "    </tr>\n",
       "  </thead>\n",
       "  <tbody>\n",
       "    <tr>\n",
       "      <th>0</th>\n",
       "      <td>Alex Abrines</td>\n",
       "      <td>24</td>\n",
       "      <td>2.2</td>\n",
       "      <td>9.0</td>\n",
       "      <td>1134</td>\n",
       "      <td>5.6</td>\n",
       "      <td>3.4</td>\n",
       "      <td>7.4</td>\n",
       "      <td>1.3</td>\n",
       "      <td>1.0</td>\n",
       "    </tr>\n",
       "    <tr>\n",
       "      <th>1</th>\n",
       "      <td>Quincy Acy</td>\n",
       "      <td>27</td>\n",
       "      <td>1.0</td>\n",
       "      <td>8.2</td>\n",
       "      <td>1359</td>\n",
       "      <td>10.0</td>\n",
       "      <td>6.0</td>\n",
       "      <td>13.3</td>\n",
       "      <td>-0.1</td>\n",
       "      <td>1.1</td>\n",
       "    </tr>\n",
       "    <tr>\n",
       "      <th>2</th>\n",
       "      <td>Steven Adams</td>\n",
       "      <td>24</td>\n",
       "      <td>9.7</td>\n",
       "      <td>20.6</td>\n",
       "      <td>2487</td>\n",
       "      <td>15.3</td>\n",
       "      <td>5.5</td>\n",
       "      <td>13.2</td>\n",
       "      <td>6.7</td>\n",
       "      <td>3.0</td>\n",
       "    </tr>\n",
       "    <tr>\n",
       "      <th>3</th>\n",
       "      <td>Bam Adebayo</td>\n",
       "      <td>20</td>\n",
       "      <td>4.2</td>\n",
       "      <td>15.7</td>\n",
       "      <td>1368</td>\n",
       "      <td>15.6</td>\n",
       "      <td>11.0</td>\n",
       "      <td>13.6</td>\n",
       "      <td>2.3</td>\n",
       "      <td>1.9</td>\n",
       "    </tr>\n",
       "    <tr>\n",
       "      <th>4</th>\n",
       "      <td>Arron Afflalo</td>\n",
       "      <td>32</td>\n",
       "      <td>0.1</td>\n",
       "      <td>5.8</td>\n",
       "      <td>682</td>\n",
       "      <td>5.3</td>\n",
       "      <td>6.2</td>\n",
       "      <td>10.8</td>\n",
       "      <td>-0.1</td>\n",
       "      <td>0.2</td>\n",
       "    </tr>\n",
       "  </tbody>\n",
       "</table>\n",
       "</div>"
      ],
      "text/plain": [
       "            Name  Age   WS   PER    MP  TRB%  AST%  TOV%  OWS  DWS\n",
       "0   Alex Abrines   24  2.2   9.0  1134   5.6   3.4   7.4  1.3  1.0\n",
       "1     Quincy Acy   27  1.0   8.2  1359  10.0   6.0  13.3 -0.1  1.1\n",
       "2   Steven Adams   24  9.7  20.6  2487  15.3   5.5  13.2  6.7  3.0\n",
       "3    Bam Adebayo   20  4.2  15.7  1368  15.6  11.0  13.6  2.3  1.9\n",
       "4  Arron Afflalo   32  0.1   5.8   682   5.3   6.2  10.8 -0.1  0.2"
      ]
     },
     "execution_count": 122,
     "metadata": {},
     "output_type": "execute_result"
    }
   ],
   "source": [
    "#Cleaning the advanced stats dataframe and extracting meaningful columns\n",
    "stats2018advanced[['Name','string']] = stats2018advanced['Player'].str.split('\\\\', expand = True)\n",
    "advanced2018 = stats2018advanced[['Name','Age', 'WS','PER','MP','TRB%','AST%','TOV%','OWS','DWS']].drop_duplicates(subset = ['Name'])\n",
    "advanced2018.head()"
   ]
  },
  {
   "cell_type": "code",
   "execution_count": 123,
   "metadata": {
    "collapsed": false
   },
   "outputs": [
    {
     "data": {
      "text/html": [
       "<div>\n",
       "<table border=\"1\" class=\"dataframe\">\n",
       "  <thead>\n",
       "    <tr style=\"text-align: right;\">\n",
       "      <th></th>\n",
       "      <th>Name</th>\n",
       "      <th>Age</th>\n",
       "      <th>WS</th>\n",
       "      <th>PER</th>\n",
       "      <th>MP</th>\n",
       "      <th>TRB%</th>\n",
       "      <th>AST%</th>\n",
       "      <th>TOV%</th>\n",
       "      <th>OWS</th>\n",
       "      <th>DWS</th>\n",
       "      <th>Tm</th>\n",
       "    </tr>\n",
       "  </thead>\n",
       "  <tbody>\n",
       "    <tr>\n",
       "      <th>0</th>\n",
       "      <td>Alex Abrines</td>\n",
       "      <td>24</td>\n",
       "      <td>2.2</td>\n",
       "      <td>9.0</td>\n",
       "      <td>1134</td>\n",
       "      <td>5.6</td>\n",
       "      <td>3.4</td>\n",
       "      <td>7.4</td>\n",
       "      <td>1.3</td>\n",
       "      <td>1.0</td>\n",
       "      <td>OKC</td>\n",
       "    </tr>\n",
       "    <tr>\n",
       "      <th>1</th>\n",
       "      <td>Steven Adams</td>\n",
       "      <td>24</td>\n",
       "      <td>9.7</td>\n",
       "      <td>20.6</td>\n",
       "      <td>2487</td>\n",
       "      <td>15.3</td>\n",
       "      <td>5.5</td>\n",
       "      <td>13.2</td>\n",
       "      <td>6.7</td>\n",
       "      <td>3.0</td>\n",
       "      <td>OKC</td>\n",
       "    </tr>\n",
       "    <tr>\n",
       "      <th>2</th>\n",
       "      <td>Bam Adebayo</td>\n",
       "      <td>20</td>\n",
       "      <td>4.2</td>\n",
       "      <td>15.7</td>\n",
       "      <td>1368</td>\n",
       "      <td>15.6</td>\n",
       "      <td>11.0</td>\n",
       "      <td>13.6</td>\n",
       "      <td>2.3</td>\n",
       "      <td>1.9</td>\n",
       "      <td>MIA</td>\n",
       "    </tr>\n",
       "    <tr>\n",
       "      <th>3</th>\n",
       "      <td>Cole Aldrich</td>\n",
       "      <td>29</td>\n",
       "      <td>0.0</td>\n",
       "      <td>6.0</td>\n",
       "      <td>49</td>\n",
       "      <td>17.7</td>\n",
       "      <td>8.2</td>\n",
       "      <td>5.4</td>\n",
       "      <td>-0.1</td>\n",
       "      <td>0.1</td>\n",
       "      <td>MIN</td>\n",
       "    </tr>\n",
       "    <tr>\n",
       "      <th>4</th>\n",
       "      <td>LaMarcus Aldridge</td>\n",
       "      <td>32</td>\n",
       "      <td>10.9</td>\n",
       "      <td>25.0</td>\n",
       "      <td>2509</td>\n",
       "      <td>14.0</td>\n",
       "      <td>11.3</td>\n",
       "      <td>6.8</td>\n",
       "      <td>7.4</td>\n",
       "      <td>3.5</td>\n",
       "      <td>SAS</td>\n",
       "    </tr>\n",
       "  </tbody>\n",
       "</table>\n",
       "</div>"
      ],
      "text/plain": [
       "                Name  Age    WS   PER    MP  TRB%  AST%  TOV%  OWS  DWS   Tm\n",
       "0       Alex Abrines   24   2.2   9.0  1134   5.6   3.4   7.4  1.3  1.0  OKC\n",
       "1       Steven Adams   24   9.7  20.6  2487  15.3   5.5  13.2  6.7  3.0  OKC\n",
       "2        Bam Adebayo   20   4.2  15.7  1368  15.6  11.0  13.6  2.3  1.9  MIA\n",
       "3       Cole Aldrich   29   0.0   6.0    49  17.7   8.2   5.4 -0.1  0.1  MIN\n",
       "4  LaMarcus Aldridge   32  10.9  25.0  2509  14.0  11.3   6.8  7.4  3.5  SAS"
      ]
     },
     "execution_count": 123,
     "metadata": {},
     "output_type": "execute_result"
    }
   ],
   "source": [
    "#Merging with the previous data set that had the rows I desired so that this one also has only those rows\n",
    "advancedclean = pd.merge(advanced2018,data2018[['Name','Tm']], how = 'inner', on = ['Name'])\n",
    "advancedclean.head()"
   ]
  },
  {
   "cell_type": "code",
   "execution_count": null,
   "metadata": {
    "collapsed": true
   },
   "outputs": [],
   "source": []
  },
  {
   "cell_type": "code",
   "execution_count": null,
   "metadata": {
    "collapsed": true
   },
   "outputs": [],
   "source": []
  },
  {
   "cell_type": "code",
   "execution_count": null,
   "metadata": {
    "collapsed": true
   },
   "outputs": [],
   "source": []
  },
  {
   "cell_type": "code",
   "execution_count": null,
   "metadata": {
    "collapsed": true
   },
   "outputs": [],
   "source": []
  },
  {
   "cell_type": "code",
   "execution_count": null,
   "metadata": {
    "collapsed": true
   },
   "outputs": [],
   "source": []
  },
  {
   "cell_type": "code",
   "execution_count": null,
   "metadata": {
    "collapsed": true
   },
   "outputs": [],
   "source": []
  },
  {
   "cell_type": "code",
   "execution_count": null,
   "metadata": {
    "collapsed": true
   },
   "outputs": [],
   "source": []
  },
  {
   "cell_type": "code",
   "execution_count": null,
   "metadata": {
    "collapsed": true
   },
   "outputs": [],
   "source": []
  },
  {
   "cell_type": "code",
   "execution_count": null,
   "metadata": {
    "collapsed": true
   },
   "outputs": [],
   "source": []
  }
 ],
 "metadata": {
  "kernelspec": {
   "display_name": "Python 2",
   "language": "python",
   "name": "python2"
  },
  "language_info": {
   "codemirror_mode": {
    "name": "ipython",
    "version": 2
   },
   "file_extension": ".py",
   "mimetype": "text/x-python",
   "name": "python",
   "nbconvert_exporter": "python",
   "pygments_lexer": "ipython2",
   "version": "2.7.11"
  }
 },
 "nbformat": 4,
 "nbformat_minor": 0
}
