{
 "cells": [
  {
   "cell_type": "code",
   "execution_count": 11,
   "metadata": {
    "collapsed": true
   },
   "outputs": [],
   "source": [
    "import pandas as pd"
   ]
  },
  {
   "cell_type": "code",
   "execution_count": 45,
   "metadata": {
    "collapsed": false
   },
   "outputs": [],
   "source": [
    "#Importing the two dataframes CSV files\n",
    "stats2018 = pd.read_csv('Data/2017-2018stats.txt')\n",
    "salaries2019 = pd.read_csv('Data/2018-2019salaries.txt')"
   ]
  },
  {
   "cell_type": "code",
   "execution_count": 46,
   "metadata": {
    "collapsed": false
   },
   "outputs": [
    {
     "data": {
      "text/html": [
       "<div>\n",
       "<table border=\"1\" class=\"dataframe\">\n",
       "  <thead>\n",
       "    <tr style=\"text-align: right;\">\n",
       "      <th></th>\n",
       "      <th>Name</th>\n",
       "      <th>Pos</th>\n",
       "      <th>Tm</th>\n",
       "      <th>G</th>\n",
       "      <th>GS</th>\n",
       "      <th>FG</th>\n",
       "      <th>FG%</th>\n",
       "      <th>3P</th>\n",
       "      <th>3P%</th>\n",
       "      <th>eFG%</th>\n",
       "      <th>FT%</th>\n",
       "      <th>ORB</th>\n",
       "      <th>TRB</th>\n",
       "      <th>AST</th>\n",
       "      <th>STL</th>\n",
       "      <th>BLK</th>\n",
       "      <th>PS/G</th>\n",
       "    </tr>\n",
       "  </thead>\n",
       "  <tbody>\n",
       "    <tr>\n",
       "      <th>0</th>\n",
       "      <td>Alex Abrines</td>\n",
       "      <td>SG</td>\n",
       "      <td>OKC</td>\n",
       "      <td>75</td>\n",
       "      <td>8</td>\n",
       "      <td>1.5</td>\n",
       "      <td>0.395</td>\n",
       "      <td>1.1</td>\n",
       "      <td>0.380</td>\n",
       "      <td>0.540</td>\n",
       "      <td>0.848</td>\n",
       "      <td>0.3</td>\n",
       "      <td>1.5</td>\n",
       "      <td>0.4</td>\n",
       "      <td>0.5</td>\n",
       "      <td>0.1</td>\n",
       "      <td>4.7</td>\n",
       "    </tr>\n",
       "    <tr>\n",
       "      <th>1</th>\n",
       "      <td>Quincy Acy</td>\n",
       "      <td>PF</td>\n",
       "      <td>BRK</td>\n",
       "      <td>70</td>\n",
       "      <td>8</td>\n",
       "      <td>1.9</td>\n",
       "      <td>0.356</td>\n",
       "      <td>1.5</td>\n",
       "      <td>0.349</td>\n",
       "      <td>0.496</td>\n",
       "      <td>0.817</td>\n",
       "      <td>0.6</td>\n",
       "      <td>3.7</td>\n",
       "      <td>0.8</td>\n",
       "      <td>0.5</td>\n",
       "      <td>0.4</td>\n",
       "      <td>5.9</td>\n",
       "    </tr>\n",
       "    <tr>\n",
       "      <th>2</th>\n",
       "      <td>Steven Adams</td>\n",
       "      <td>C</td>\n",
       "      <td>OKC</td>\n",
       "      <td>76</td>\n",
       "      <td>76</td>\n",
       "      <td>5.9</td>\n",
       "      <td>0.629</td>\n",
       "      <td>0.0</td>\n",
       "      <td>0.000</td>\n",
       "      <td>0.629</td>\n",
       "      <td>0.557</td>\n",
       "      <td>5.1</td>\n",
       "      <td>9.0</td>\n",
       "      <td>1.2</td>\n",
       "      <td>1.2</td>\n",
       "      <td>1.0</td>\n",
       "      <td>13.9</td>\n",
       "    </tr>\n",
       "    <tr>\n",
       "      <th>3</th>\n",
       "      <td>Bam Adebayo</td>\n",
       "      <td>C</td>\n",
       "      <td>MIA</td>\n",
       "      <td>69</td>\n",
       "      <td>19</td>\n",
       "      <td>2.5</td>\n",
       "      <td>0.512</td>\n",
       "      <td>0.0</td>\n",
       "      <td>0.000</td>\n",
       "      <td>0.512</td>\n",
       "      <td>0.721</td>\n",
       "      <td>1.7</td>\n",
       "      <td>5.5</td>\n",
       "      <td>1.5</td>\n",
       "      <td>0.5</td>\n",
       "      <td>0.6</td>\n",
       "      <td>6.9</td>\n",
       "    </tr>\n",
       "    <tr>\n",
       "      <th>4</th>\n",
       "      <td>Arron Afflalo</td>\n",
       "      <td>SG</td>\n",
       "      <td>ORL</td>\n",
       "      <td>53</td>\n",
       "      <td>3</td>\n",
       "      <td>1.2</td>\n",
       "      <td>0.401</td>\n",
       "      <td>0.5</td>\n",
       "      <td>0.386</td>\n",
       "      <td>0.485</td>\n",
       "      <td>0.846</td>\n",
       "      <td>0.1</td>\n",
       "      <td>1.2</td>\n",
       "      <td>0.6</td>\n",
       "      <td>0.1</td>\n",
       "      <td>0.2</td>\n",
       "      <td>3.4</td>\n",
       "    </tr>\n",
       "  </tbody>\n",
       "</table>\n",
       "</div>"
      ],
      "text/plain": [
       "            Name Pos   Tm   G  GS   FG    FG%   3P    3P%   eFG%    FT%  ORB  \\\n",
       "0   Alex Abrines  SG  OKC  75   8  1.5  0.395  1.1  0.380  0.540  0.848  0.3   \n",
       "1     Quincy Acy  PF  BRK  70   8  1.9  0.356  1.5  0.349  0.496  0.817  0.6   \n",
       "2   Steven Adams   C  OKC  76  76  5.9  0.629  0.0  0.000  0.629  0.557  5.1   \n",
       "3    Bam Adebayo   C  MIA  69  19  2.5  0.512  0.0  0.000  0.512  0.721  1.7   \n",
       "4  Arron Afflalo  SG  ORL  53   3  1.2  0.401  0.5  0.386  0.485  0.846  0.1   \n",
       "\n",
       "   TRB  AST  STL  BLK  PS/G  \n",
       "0  1.5  0.4  0.5  0.1   4.7  \n",
       "1  3.7  0.8  0.5  0.4   5.9  \n",
       "2  9.0  1.2  1.2  1.0  13.9  \n",
       "3  5.5  1.5  0.5  0.6   6.9  \n",
       "4  1.2  0.6  0.1  0.2   3.4  "
      ]
     },
     "execution_count": 46,
     "metadata": {},
     "output_type": "execute_result"
    }
   ],
   "source": [
    "#Removing the string at the end of the player's name and extracting the columns I deem important\n",
    "stats2018[['Name','string']] = stats2018['Player'].str.split('\\\\', expand = True)\n",
    "stats2018 = stats2018[['Name','Pos','Tm','G','GS', 'FG', 'FG%', '3P', '3P%', 'eFG%', 'FT%', 'ORB','TRB','AST','STL','BLK','PS/G']]\n",
    "stats2018.head()"
   ]
  },
  {
   "cell_type": "code",
   "execution_count": 47,
   "metadata": {
    "collapsed": false
   },
   "outputs": [
    {
     "name": "stdout",
     "output_type": "stream",
     "text": [
      "<class 'pandas.core.frame.DataFrame'>\n",
      "Int64Index: 664 entries, 0 to 663\n",
      "Data columns (total 17 columns):\n",
      "Name    664 non-null object\n",
      "Pos     664 non-null object\n",
      "Tm      664 non-null object\n",
      "G       664 non-null int64\n",
      "GS      664 non-null int64\n",
      "FG      664 non-null float64\n",
      "FG%     660 non-null float64\n",
      "3P      664 non-null float64\n",
      "3P%     599 non-null float64\n",
      "eFG%    660 non-null float64\n",
      "FT%     606 non-null float64\n",
      "ORB     664 non-null float64\n",
      "TRB     664 non-null float64\n",
      "AST     664 non-null float64\n",
      "STL     664 non-null float64\n",
      "BLK     664 non-null float64\n",
      "PS/G    664 non-null float64\n",
      "dtypes: float64(12), int64(2), object(3)\n",
      "memory usage: 93.4+ KB\n"
     ]
    }
   ],
   "source": [
    "stats2018.info()"
   ]
  },
  {
   "cell_type": "code",
   "execution_count": 48,
   "metadata": {
    "collapsed": false
   },
   "outputs": [
    {
     "data": {
      "text/plain": [
       "59"
      ]
     },
     "execution_count": 48,
     "metadata": {},
     "output_type": "execute_result"
    }
   ],
   "source": [
    "#Checking to see which players played for multiple teams \n",
    "multiple_teams = stats2018['Name'].loc[stats2018['Tm'] == 'TOT']\n",
    "multiple_teams.count()\n",
    "\n",
    "\n",
    "\n",
    "    \n",
    "\n"
   ]
  },
  {
   "cell_type": "code",
   "execution_count": 49,
   "metadata": {
    "collapsed": false
   },
   "outputs": [
    {
     "data": {
      "text/plain": [
       "183"
      ]
     },
     "execution_count": 49,
     "metadata": {},
     "output_type": "execute_result"
    }
   ],
   "source": [
    "#Counting up all of the times a person who has played for multiple teams shows up in the dataframe\n",
    "count_multiple = sum(stats2018['Name'].isin(multiple_teams))\n",
    "count_multiple"
   ]
  },
  {
   "cell_type": "code",
   "execution_count": 50,
   "metadata": {
    "collapsed": false
   },
   "outputs": [
    {
     "data": {
      "text/plain": [
       "124"
      ]
     },
     "execution_count": 50,
     "metadata": {},
     "output_type": "execute_result"
    }
   ],
   "source": [
    "#Subtracting away the amount of times the TOT shows up from the total\n",
    "count_multiple - len(multiple_teams)"
   ]
  },
  {
   "cell_type": "code",
   "execution_count": 51,
   "metadata": {
    "collapsed": false,
    "scrolled": true
   },
   "outputs": [
    {
     "name": "stdout",
     "output_type": "stream",
     "text": [
      "<class 'pandas.core.frame.DataFrame'>\n",
      "Int64Index: 540 entries, 0 to 663\n",
      "Data columns (total 17 columns):\n",
      "Name    540 non-null object\n",
      "Pos     540 non-null object\n",
      "Tm      540 non-null object\n",
      "G       540 non-null int64\n",
      "GS      540 non-null int64\n",
      "FG      540 non-null float64\n",
      "FG%     537 non-null float64\n",
      "3P      540 non-null float64\n",
      "3P%     491 non-null float64\n",
      "eFG%    537 non-null float64\n",
      "FT%     501 non-null float64\n",
      "ORB     540 non-null float64\n",
      "TRB     540 non-null float64\n",
      "AST     540 non-null float64\n",
      "STL     540 non-null float64\n",
      "BLK     540 non-null float64\n",
      "PS/G    540 non-null float64\n",
      "dtypes: float64(12), int64(2), object(3)\n",
      "memory usage: 75.9+ KB\n"
     ]
    }
   ],
   "source": [
    "#Dropping the duplicates caused by a player changing teams midway, keeping the TOT entry. The amount makes sense as 660 - 124 = 540\n",
    "stats2018u = stats2018.drop_duplicates(subset = ['Name'])\n",
    "stats2018u.info()"
   ]
  },
  {
   "cell_type": "code",
   "execution_count": 57,
   "metadata": {
    "collapsed": false
   },
   "outputs": [
    {
     "data": {
      "text/html": [
       "<div>\n",
       "<table border=\"1\" class=\"dataframe\">\n",
       "  <thead>\n",
       "    <tr style=\"text-align: right;\">\n",
       "      <th></th>\n",
       "      <th>﻿Rk</th>\n",
       "      <th>Tm</th>\n",
       "      <th>2018-19</th>\n",
       "      <th>Guaranteed</th>\n",
       "      <th>Name</th>\n",
       "    </tr>\n",
       "  </thead>\n",
       "  <tbody>\n",
       "    <tr>\n",
       "      <th>0</th>\n",
       "      <td>1</td>\n",
       "      <td>GSW</td>\n",
       "      <td>$37457154</td>\n",
       "      <td>$166476240</td>\n",
       "      <td>Stephen Curry</td>\n",
       "    </tr>\n",
       "    <tr>\n",
       "      <th>1</th>\n",
       "      <td>2</td>\n",
       "      <td>LAL</td>\n",
       "      <td>$35654150</td>\n",
       "      <td>$226621146</td>\n",
       "      <td>LeBron James</td>\n",
       "    </tr>\n",
       "    <tr>\n",
       "      <th>2</th>\n",
       "      <td>3</td>\n",
       "      <td>LAL</td>\n",
       "      <td>$35654150</td>\n",
       "      <td>$226621146</td>\n",
       "      <td>LeBron James</td>\n",
       "    </tr>\n",
       "    <tr>\n",
       "      <th>3</th>\n",
       "      <td>4</td>\n",
       "      <td>HOU</td>\n",
       "      <td>$35654150</td>\n",
       "      <td>$159730592</td>\n",
       "      <td>Chris Paul</td>\n",
       "    </tr>\n",
       "    <tr>\n",
       "      <th>4</th>\n",
       "      <td>5</td>\n",
       "      <td>OKC</td>\n",
       "      <td>$35350000</td>\n",
       "      <td>$158382000</td>\n",
       "      <td>Russell Westbrook</td>\n",
       "    </tr>\n",
       "  </tbody>\n",
       "</table>\n",
       "</div>"
      ],
      "text/plain": [
       "   ﻿Rk   Tm    2018-19  Guaranteed               Name\n",
       "0    1  GSW  $37457154  $166476240      Stephen Curry\n",
       "1    2  LAL  $35654150  $226621146       LeBron James\n",
       "2    3  LAL  $35654150  $226621146       LeBron James\n",
       "3    4  HOU  $35654150  $159730592         Chris Paul\n",
       "4    5  OKC  $35350000  $158382000  Russell Westbrook"
      ]
     },
     "execution_count": 57,
     "metadata": {},
     "output_type": "execute_result"
    }
   ],
   "source": [
    "#Splitting the weird Player column, and dropping all unneccessary columns\n",
    "salaries2019[['Name','string']] = salaries2019['Player'].str.split('\\\\', expand = True)\n",
    "dropped2019 = salaries2019.drop(['Player','2019-20','2020-21','2021-22','2022-23','2023-24', 'Signed Using','string'],1)\n",
    "dropped2019.head()"
   ]
  },
  {
   "cell_type": "code",
   "execution_count": 58,
   "metadata": {
    "collapsed": false
   },
   "outputs": [
    {
     "data": {
      "text/plain": [
       "2"
      ]
     },
     "execution_count": 58,
     "metadata": {},
     "output_type": "execute_result"
    }
   ],
   "source": [
    "#Counting to see how many nonunique entries there are. There are 450 unique entries in the name column and 2 that show up twice\n",
    "len(dropped2019['Name']) - dropped2019['Name'].nunique()\n"
   ]
  },
  {
   "cell_type": "code",
   "execution_count": 71,
   "metadata": {
    "collapsed": false
   },
   "outputs": [
    {
     "name": "stdout",
     "output_type": "stream",
     "text": [
      "<class 'pandas.core.frame.DataFrame'>\n",
      "Int64Index: 452 entries, 0 to 451\n",
      "Data columns (total 5 columns):\n",
      "﻿Rk           452 non-null int64\n",
      "Tm            452 non-null object\n",
      "2018-19       452 non-null object\n",
      "Guaranteed    425 non-null object\n",
      "Name          452 non-null object\n",
      "dtypes: int64(1), object(4)\n",
      "memory usage: 21.2+ KB\n"
     ]
    }
   ],
   "source": [
    "#Counting to see how many entries there are\n",
    "dropped2019.info()"
   ]
  },
  {
   "cell_type": "code",
   "execution_count": 72,
   "metadata": {
    "collapsed": false
   },
   "outputs": [
    {
     "name": "stdout",
     "output_type": "stream",
     "text": [
      "<class 'pandas.core.frame.DataFrame'>\n",
      "Int64Index: 450 entries, 0 to 451\n",
      "Data columns (total 5 columns):\n",
      "﻿Rk           450 non-null int64\n",
      "Tm            450 non-null object\n",
      "2018-19       450 non-null object\n",
      "Guaranteed    423 non-null object\n",
      "Name          450 non-null object\n",
      "dtypes: int64(1), object(4)\n",
      "memory usage: 21.1+ KB\n"
     ]
    }
   ],
   "source": [
    "#dropping duplicates that show up in the salary column for some reason. should be -2. This is correct\n",
    "dropped2019u = dropped2019.drop_duplicates(subset = ['Name'])\n",
    "dropped2019u.info()"
   ]
  },
  {
   "cell_type": "code",
   "execution_count": 97,
   "metadata": {
    "collapsed": false
   },
   "outputs": [
    {
     "name": "stdout",
     "output_type": "stream",
     "text": [
      "<class 'pandas.core.frame.DataFrame'>\n",
      "Int64Index: 289 entries, 0 to 288\n",
      "Data columns (total 20 columns):\n",
      "﻿Rk           289 non-null int64\n",
      "Tm            289 non-null object\n",
      "2018-19       289 non-null object\n",
      "Guaranteed    269 non-null object\n",
      "Name          289 non-null object\n",
      "Pos           289 non-null object\n",
      "G             289 non-null int64\n",
      "GS            289 non-null int64\n",
      "FG            289 non-null float64\n",
      "FG%           288 non-null float64\n",
      "3P            289 non-null float64\n",
      "3P%           271 non-null float64\n",
      "eFG%          288 non-null float64\n",
      "FT%           283 non-null float64\n",
      "ORB           289 non-null float64\n",
      "TRB           289 non-null float64\n",
      "AST           289 non-null float64\n",
      "STL           289 non-null float64\n",
      "BLK           289 non-null float64\n",
      "PS/G          289 non-null float64\n",
      "dtypes: float64(12), int64(3), object(5)\n",
      "memory usage: 47.4+ KB\n"
     ]
    }
   ],
   "source": [
    "#Concatenating the two data frames together. Checking, we now only have 289 entries, because some players that played \n",
    "#last year do not have salaries for next year, and some who have salaries for next year did not play last year\n",
    "data2018 = pd.merge(dropped2019u,stats2018ud, how = 'inner', on = ['Name', 'Tm'])\n",
    "data2018.info()\n"
   ]
  },
  {
   "cell_type": "code",
   "execution_count": 98,
   "metadata": {
    "collapsed": false
   },
   "outputs": [
    {
     "name": "stdout",
     "output_type": "stream",
     "text": [
      "<class 'pandas.core.frame.DataFrame'>\n",
      "Int64Index: 289 entries, 0 to 288\n",
      "Data columns (total 20 columns):\n",
      "﻿Rk           289 non-null int64\n",
      "Tm            289 non-null object\n",
      "2018-19       289 non-null int32\n",
      "Guaranteed    269 non-null object\n",
      "Name          289 non-null object\n",
      "Pos           289 non-null object\n",
      "G             289 non-null int64\n",
      "GS            289 non-null int64\n",
      "FG            289 non-null float64\n",
      "FG%           288 non-null float64\n",
      "3P            289 non-null float64\n",
      "3P%           271 non-null float64\n",
      "eFG%          288 non-null float64\n",
      "FT%           283 non-null float64\n",
      "ORB           289 non-null float64\n",
      "TRB           289 non-null float64\n",
      "AST           289 non-null float64\n",
      "STL           289 non-null float64\n",
      "BLK           289 non-null float64\n",
      "PS/G          289 non-null float64\n",
      "dtypes: float64(12), int32(1), int64(3), object(4)\n",
      "memory usage: 46.3+ KB\n"
     ]
    }
   ],
   "source": [
    "#Taking the dollar sign out of the salary and casting it as an integer, so that I can order by it. Checking to see \n",
    "data2018['2018-19'] = data2018['2018-19'].str.replace('$', '').astype(int)\n",
    "data2018.info()"
   ]
  },
  {
   "cell_type": "code",
   "execution_count": 92,
   "metadata": {
    "collapsed": false
   },
   "outputs": [
    {
     "data": {
      "text/html": [
       "<div>\n",
       "<table border=\"1\" class=\"dataframe\">\n",
       "  <thead>\n",
       "    <tr style=\"text-align: right;\">\n",
       "      <th></th>\n",
       "      <th>﻿Rk</th>\n",
       "      <th>Tm</th>\n",
       "      <th>2018-19</th>\n",
       "      <th>Guaranteed</th>\n",
       "      <th>Name</th>\n",
       "      <th>Pos</th>\n",
       "      <th>G</th>\n",
       "      <th>GS</th>\n",
       "      <th>FG</th>\n",
       "      <th>FG%</th>\n",
       "      <th>3P</th>\n",
       "      <th>3P%</th>\n",
       "      <th>eFG%</th>\n",
       "      <th>FT%</th>\n",
       "      <th>ORB</th>\n",
       "      <th>TRB</th>\n",
       "      <th>AST</th>\n",
       "      <th>STL</th>\n",
       "      <th>BLK</th>\n",
       "      <th>PS/G</th>\n",
       "    </tr>\n",
       "  </thead>\n",
       "  <tbody>\n",
       "    <tr>\n",
       "      <th>0</th>\n",
       "      <td>1</td>\n",
       "      <td>GSW</td>\n",
       "      <td>37457154</td>\n",
       "      <td>$166476240</td>\n",
       "      <td>Stephen Curry</td>\n",
       "      <td>PG</td>\n",
       "      <td>51</td>\n",
       "      <td>51</td>\n",
       "      <td>8.4</td>\n",
       "      <td>0.495</td>\n",
       "      <td>4.2</td>\n",
       "      <td>0.423</td>\n",
       "      <td>0.618</td>\n",
       "      <td>0.921</td>\n",
       "      <td>0.7</td>\n",
       "      <td>5.1</td>\n",
       "      <td>6.1</td>\n",
       "      <td>1.6</td>\n",
       "      <td>0.2</td>\n",
       "      <td>26.4</td>\n",
       "    </tr>\n",
       "    <tr>\n",
       "      <th>1</th>\n",
       "      <td>4</td>\n",
       "      <td>HOU</td>\n",
       "      <td>35654150</td>\n",
       "      <td>$159730592</td>\n",
       "      <td>Chris Paul</td>\n",
       "      <td>PG</td>\n",
       "      <td>58</td>\n",
       "      <td>58</td>\n",
       "      <td>6.3</td>\n",
       "      <td>0.460</td>\n",
       "      <td>2.5</td>\n",
       "      <td>0.380</td>\n",
       "      <td>0.550</td>\n",
       "      <td>0.919</td>\n",
       "      <td>0.6</td>\n",
       "      <td>5.4</td>\n",
       "      <td>7.9</td>\n",
       "      <td>1.7</td>\n",
       "      <td>0.2</td>\n",
       "      <td>18.6</td>\n",
       "    </tr>\n",
       "    <tr>\n",
       "      <th>2</th>\n",
       "      <td>5</td>\n",
       "      <td>OKC</td>\n",
       "      <td>35350000</td>\n",
       "      <td>$158382000</td>\n",
       "      <td>Russell Westbrook</td>\n",
       "      <td>PG</td>\n",
       "      <td>80</td>\n",
       "      <td>80</td>\n",
       "      <td>9.5</td>\n",
       "      <td>0.449</td>\n",
       "      <td>1.2</td>\n",
       "      <td>0.298</td>\n",
       "      <td>0.477</td>\n",
       "      <td>0.737</td>\n",
       "      <td>1.9</td>\n",
       "      <td>10.1</td>\n",
       "      <td>10.3</td>\n",
       "      <td>1.8</td>\n",
       "      <td>0.3</td>\n",
       "      <td>25.4</td>\n",
       "    </tr>\n",
       "    <tr>\n",
       "      <th>3</th>\n",
       "      <td>7</td>\n",
       "      <td>BOS</td>\n",
       "      <td>31214295</td>\n",
       "      <td>$63914985</td>\n",
       "      <td>Gordon Hayward</td>\n",
       "      <td>SF</td>\n",
       "      <td>1</td>\n",
       "      <td>1</td>\n",
       "      <td>1.0</td>\n",
       "      <td>0.500</td>\n",
       "      <td>0.0</td>\n",
       "      <td>0.000</td>\n",
       "      <td>0.500</td>\n",
       "      <td>NaN</td>\n",
       "      <td>0.0</td>\n",
       "      <td>1.0</td>\n",
       "      <td>0.0</td>\n",
       "      <td>0.0</td>\n",
       "      <td>0.0</td>\n",
       "      <td>2.0</td>\n",
       "    </tr>\n",
       "    <tr>\n",
       "      <th>4</th>\n",
       "      <td>8</td>\n",
       "      <td>TOR</td>\n",
       "      <td>31000000</td>\n",
       "      <td>$64296296</td>\n",
       "      <td>Kyle Lowry</td>\n",
       "      <td>PG</td>\n",
       "      <td>78</td>\n",
       "      <td>78</td>\n",
       "      <td>5.2</td>\n",
       "      <td>0.427</td>\n",
       "      <td>3.1</td>\n",
       "      <td>0.399</td>\n",
       "      <td>0.553</td>\n",
       "      <td>0.854</td>\n",
       "      <td>0.8</td>\n",
       "      <td>5.6</td>\n",
       "      <td>6.9</td>\n",
       "      <td>1.1</td>\n",
       "      <td>0.2</td>\n",
       "      <td>16.2</td>\n",
       "    </tr>\n",
       "  </tbody>\n",
       "</table>\n",
       "</div>"
      ],
      "text/plain": [
       "   ﻿Rk   Tm   2018-19  Guaranteed               Name Pos   G  GS   FG    FG%  \\\n",
       "0    1  GSW  37457154  $166476240      Stephen Curry  PG  51  51  8.4  0.495   \n",
       "1    4  HOU  35654150  $159730592         Chris Paul  PG  58  58  6.3  0.460   \n",
       "2    5  OKC  35350000  $158382000  Russell Westbrook  PG  80  80  9.5  0.449   \n",
       "3    7  BOS  31214295   $63914985     Gordon Hayward  SF   1   1  1.0  0.500   \n",
       "4    8  TOR  31000000   $64296296         Kyle Lowry  PG  78  78  5.2  0.427   \n",
       "\n",
       "    3P    3P%   eFG%    FT%  ORB   TRB   AST  STL  BLK  PS/G  \n",
       "0  4.2  0.423  0.618  0.921  0.7   5.1   6.1  1.6  0.2  26.4  \n",
       "1  2.5  0.380  0.550  0.919  0.6   5.4   7.9  1.7  0.2  18.6  \n",
       "2  1.2  0.298  0.477  0.737  1.9  10.1  10.3  1.8  0.3  25.4  \n",
       "3  0.0  0.000  0.500    NaN  0.0   1.0   0.0  0.0  0.0   2.0  \n",
       "4  3.1  0.399  0.553  0.854  0.8   5.6   6.9  1.1  0.2  16.2  "
      ]
     },
     "execution_count": 92,
     "metadata": {},
     "output_type": "execute_result"
    }
   ],
   "source": [
    "#Sorting by highest salary first and checking how it looks\n",
    "data2018.sort_values(by = '2018-19', ascending = False)\n",
    "data2018.head()\n"
   ]
  },
  {
   "cell_type": "code",
   "execution_count": null,
   "metadata": {
    "collapsed": true
   },
   "outputs": [],
   "source": []
  },
  {
   "cell_type": "code",
   "execution_count": null,
   "metadata": {
    "collapsed": true
   },
   "outputs": [],
   "source": []
  },
  {
   "cell_type": "code",
   "execution_count": null,
   "metadata": {
    "collapsed": true
   },
   "outputs": [],
   "source": []
  },
  {
   "cell_type": "code",
   "execution_count": null,
   "metadata": {
    "collapsed": true
   },
   "outputs": [],
   "source": []
  },
  {
   "cell_type": "code",
   "execution_count": null,
   "metadata": {
    "collapsed": true
   },
   "outputs": [],
   "source": []
  },
  {
   "cell_type": "code",
   "execution_count": null,
   "metadata": {
    "collapsed": true
   },
   "outputs": [],
   "source": []
  }
 ],
 "metadata": {
  "kernelspec": {
   "display_name": "Python 2",
   "language": "python",
   "name": "python2"
  },
  "language_info": {
   "codemirror_mode": {
    "name": "ipython",
    "version": 2
   },
   "file_extension": ".py",
   "mimetype": "text/x-python",
   "name": "python",
   "nbconvert_exporter": "python",
   "pygments_lexer": "ipython2",
   "version": "2.7.11"
  }
 },
 "nbformat": 4,
 "nbformat_minor": 0
}
